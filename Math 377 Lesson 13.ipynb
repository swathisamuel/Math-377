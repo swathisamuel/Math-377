{
 "cells": [
  {
   "cell_type": "markdown",
   "metadata": {},
   "source": [
    "## Probability Distributions \n",
    "### Professors Warner and Horton\n",
    "\n",
    "In this notebook, we will introduce some of the more common discrete and continuous probability distributions. These are commonly used to model random events."
   ]
  },
  {
   "cell_type": "markdown",
   "metadata": {},
   "source": [
    "### Discrete Distributions"
   ]
  },
  {
   "cell_type": "markdown",
   "metadata": {},
   "source": [
    "Remember that a random variable is a mapping from the sample space to a real number, $X:S \\rightarrow \\mathbb{R}$. The *probability mass function* (pmf) is a function that maps each outcome of the random variable to a real number between 0 and 1, $f: \\mathbb{R} \\rightarrow [0,1]$, such that for all $x \\in \\mathbb{R}$, \n",
    "\n",
    "$$f(x)=P(X=x)$$"
   ]
  },
  {
   "cell_type": "markdown",
   "metadata": {},
   "source": [
    "Another useful idea is that of the *cumulative distribution function* (cdf) which is:\n",
    "\n",
    "$$ F_{X}(x) = P(X \\leq x)$$\n"
   ]
  },
  {
   "cell_type": "markdown",
   "metadata": {},
   "source": [
    "The pmf can be written as an explicit function, a table, a plot, or words. We will focus on the first. Most problems take a wording and convert it to a table of function."
   ]
  },
  {
   "cell_type": "markdown",
   "metadata": {},
   "source": [
    "##### Example  \n",
    "\n",
    "A team is playing a two game series against another team. The probability of winning the first game is 0.52 and the probability of winning the second, your star player has a planned absence, is 0.43. Let $X$ be the number of games won in the two played. \n",
    "\n",
    "1) Determine the probability mass function as a table.  \n",
    "2) Find the cumulative distribution function as a table.  \n",
    "3) Find the probability of winning at least one game.  "
   ]
  },
  {
   "cell_type": "code",
   "execution_count": 2,
   "metadata": {},
   "outputs": [],
   "source": [
    "# Run this code to import packages\n",
    "import datascience as ds\n",
    "import numpy as np\n",
    "from scipy import stats\n",
    "import matplotlib.pyplot as plt\n",
    "%matplotlib inline"
   ]
  },
  {
   "cell_type": "markdown",
   "metadata": {},
   "source": [
    "The random variable $X$ the number of games won in two played. It can take the values ${0,1,2}$. The sample space is ${LL,LW,WL,WW}$ which we will map to the random variable. Thus $LL \\rightarrow 0$, $LW \\rightarrow 1$,  $WL \\rightarrow 1$, and  $WW \\rightarrow 2$. The pmf is:"
   ]
  },
  {
   "cell_type": "markdown",
   "metadata": {},
   "source": [
    "1) Find the probability mass function."
   ]
  },
  {
   "cell_type": "code",
   "execution_count": 3,
   "metadata": {},
   "outputs": [
    {
     "data": {
      "text/html": [
       "<table border=\"1\" class=\"dataframe\">\n",
       "    <thead>\n",
       "        <tr>\n",
       "            <th>Number of Wins (x)</th> <th>Probability P(X=x)</th>\n",
       "        </tr>\n",
       "    </thead>\n",
       "    <tbody>\n",
       "        <tr>\n",
       "            <td>0                 </td> <td>0.2736            </td>\n",
       "        </tr>\n",
       "        <tr>\n",
       "            <td>1                 </td> <td>0.5028            </td>\n",
       "        </tr>\n",
       "        <tr>\n",
       "            <td>2                 </td> <td>0.2236            </td>\n",
       "        </tr>\n",
       "    </tbody>\n",
       "</table>"
      ],
      "text/plain": [
       "Number of Wins (x) | Probability P(X=x)\n",
       "0                  | 0.2736\n",
       "1                  | 0.5028\n",
       "2                  | 0.2236"
      ]
     },
     "execution_count": 3,
     "metadata": {},
     "output_type": "execute_result"
    }
   ],
   "source": [
    "w1=.52\n",
    "w2=.43\n",
    "pmf_table=ds.Table().with_columns([\"Number of Wins (x)\",np.arange(3)])\n",
    "probs= np.array([(1-w1)*(1-w2),(1-w1)*w2+w1*(1-w2),w1*w2])\n",
    "pmf_table=pmf_table.with_columns([\"Probability P(X=x)\",probs])\n",
    "pmf_table"
   ]
  },
  {
   "cell_type": "markdown",
   "metadata": {},
   "source": [
    "2) Find the cumulative probability distribution."
   ]
  },
  {
   "cell_type": "code",
   "execution_count": 4,
   "metadata": {},
   "outputs": [],
   "source": [
    "def cdf(table):\n",
    "    '''Given a two column table with values in first column and probability mass in the second,\n",
    "    return a table of the cdf\n",
    "    table - Two columns will realizations of the random variable in first and probability in second'''\n",
    "    temp=table.select(0).with_columns(\"Cumulative Probability\",np.cumsum(table[1]))\n",
    "    return temp"
   ]
  },
  {
   "cell_type": "code",
   "execution_count": 5,
   "metadata": {},
   "outputs": [
    {
     "data": {
      "text/html": [
       "<table border=\"1\" class=\"dataframe\">\n",
       "    <thead>\n",
       "        <tr>\n",
       "            <th>Number of Wins (x)</th> <th>Cumulative Probability</th>\n",
       "        </tr>\n",
       "    </thead>\n",
       "    <tbody>\n",
       "        <tr>\n",
       "            <td>0                 </td> <td>0.2736                </td>\n",
       "        </tr>\n",
       "        <tr>\n",
       "            <td>1                 </td> <td>0.7764                </td>\n",
       "        </tr>\n",
       "        <tr>\n",
       "            <td>2                 </td> <td>1                     </td>\n",
       "        </tr>\n",
       "    </tbody>\n",
       "</table>"
      ],
      "text/plain": [
       "Number of Wins (x) | Cumulative Probability\n",
       "0                  | 0.2736\n",
       "1                  | 0.7764\n",
       "2                  | 1"
      ]
     },
     "execution_count": 5,
     "metadata": {},
     "output_type": "execute_result"
    }
   ],
   "source": [
    "cdf(pmf_table)"
   ]
  },
  {
   "cell_type": "markdown",
   "metadata": {},
   "source": [
    "3) Find the probability of winning at least one game."
   ]
  },
  {
   "cell_type": "code",
   "execution_count": 7,
   "metadata": {},
   "outputs": [
    {
     "data": {
      "text/plain": [
       "0.7263999999999999"
      ]
     },
     "execution_count": 7,
     "metadata": {},
     "output_type": "execute_result"
    }
   ],
   "source": [
    "# P(>=1)\n",
    "p1=pmf_table.take(0).column(1).item(0)\n",
    "1-p1"
   ]
  },
  {
   "cell_type": "markdown",
   "metadata": {},
   "source": [
    "#### Moments"
   ]
  },
  {
   "cell_type": "markdown",
   "metadata": {},
   "source": [
    "Random variables can be summarized with expected values. In general, let $X$ be a discrete random variable with pmf $f(x)$. Then $$E(g(X)) = \\sum_{x}g(x)f(x)$$"
   ]
  },
  {
   "cell_type": "markdown",
   "metadata": {},
   "source": [
    "The mean is $$E(X) = \\mu = \\sum_{x}xf(x),$$ also called the first moment about the origin, and variance is \n",
    "$$E((X- \\mu)^{2})  = V(X) = \\sigma ^{2} =\\sum_{x}(x - \\mu)^{2}f(x), $$ known as the second moment about the mean."
   ]
  },
  {
   "cell_type": "markdown",
   "metadata": {},
   "source": [
    "For our problem above, find the mean and variance."
   ]
  },
  {
   "cell_type": "code",
   "execution_count": 8,
   "metadata": {},
   "outputs": [
    {
     "data": {
      "text/html": [
       "<table border=\"1\" class=\"dataframe\">\n",
       "    <thead>\n",
       "        <tr>\n",
       "            <th>Number of Wins (x)</th> <th>Probability P(X=x)</th>\n",
       "        </tr>\n",
       "    </thead>\n",
       "    <tbody>\n",
       "        <tr>\n",
       "            <td>0                 </td> <td>0.2736            </td>\n",
       "        </tr>\n",
       "        <tr>\n",
       "            <td>1                 </td> <td>0.5028            </td>\n",
       "        </tr>\n",
       "        <tr>\n",
       "            <td>2                 </td> <td>0.2236            </td>\n",
       "        </tr>\n",
       "    </tbody>\n",
       "</table>"
      ],
      "text/plain": [
       "Number of Wins (x) | Probability P(X=x)\n",
       "0                  | 0.2736\n",
       "1                  | 0.5028\n",
       "2                  | 0.2236"
      ]
     },
     "execution_count": 8,
     "metadata": {},
     "output_type": "execute_result"
    }
   ],
   "source": [
    "pmf_table"
   ]
  },
  {
   "cell_type": "code",
   "execution_count": 11,
   "metadata": {},
   "outputs": [
    {
     "data": {
      "text/plain": [
       "0.95"
      ]
     },
     "execution_count": 11,
     "metadata": {},
     "output_type": "execute_result"
    }
   ],
   "source": [
    "mean=sum(pmf_table.column(0)*pmf_table.column(1))\n",
    "mean"
   ]
  },
  {
   "cell_type": "code",
   "execution_count": 12,
   "metadata": {},
   "outputs": [],
   "source": [
    "e=sum(pmf_table.column(0)*pmf_table.column(1)) ##expected # of wins"
   ]
  },
  {
   "cell_type": "code",
   "execution_count": 13,
   "metadata": {},
   "outputs": [
    {
     "data": {
      "text/plain": [
       "0.49470000000000003"
      ]
     },
     "execution_count": 13,
     "metadata": {},
     "output_type": "execute_result"
    }
   ],
   "source": [
    "pmf_table=pmf_table.with_column(\"expected Val\", e)\n",
    "x=pmf_table.column(0)\n",
    "ex=pmf_table.column(2)\n",
    "\n",
    "sum(((x-ex)**2)*pmf_table.column(1))\n",
    "\n"
   ]
  },
  {
   "cell_type": "markdown",
   "metadata": {},
   "source": [
    "### Named Discrete Distributions"
   ]
  },
  {
   "cell_type": "markdown",
   "metadata": {},
   "source": [
    "Helpfully, random variables often take on familiar \"named\" distributions. Such distributions occur often enough that we know the generic form of the pmf, expected value and variance. In these cases, we can avoid deriving the pmf like we did in 1) above. Below, we introduce many common \"named\" discrete distributions."
   ]
  },
  {
   "cell_type": "markdown",
   "metadata": {},
   "source": [
    "#### Binomial  \n",
    "\n",
    "If each trial of an experiment has only two outcomes, arbitrarily named success and failure, where the probability of success of each trial is constant and independent of the prior trials and the number of trials is fixed in advance, then we have a binomial random variable.  \n",
    "The general form of the random variable is $X$ is the number of successes in $n$ trials."
   ]
  },
  {
   "cell_type": "markdown",
   "metadata": {},
   "source": [
    "The closed form solution to the pmf is $$f(x;n,p) = {n\\choose x}p^{x}(1-p)^{n-x}$$"
   ]
  },
  {
   "cell_type": "markdown",
   "metadata": {},
   "source": [
    "Write a function to find the pmf of a binomial and then use it to make a second cdf function. The following function will help."
   ]
  },
  {
   "cell_type": "code",
   "execution_count": 14,
   "metadata": {},
   "outputs": [],
   "source": [
    "from math import factorial\n",
    "\n",
    "def choose(n, c):\n",
    "    '''Number of ways to choose c items from a list of n items.'''\n",
    "    return factorial(n) // (factorial(n - c) * factorial(c))"
   ]
  },
  {
   "cell_type": "code",
   "execution_count": 15,
   "metadata": {},
   "outputs": [],
   "source": [
    "def my_binom(x,n,p):\n",
    "    '''pmf of binomial r.v.; returns the probability of x successes out of n trials \n",
    "    where each trial has probability p of success'''\n",
    "    return choose(n,x)*p**x*(1-p)**(n-x)"
   ]
  },
  {
   "cell_type": "code",
   "execution_count": 16,
   "metadata": {},
   "outputs": [
    {
     "data": {
      "text/plain": [
       "0.375"
      ]
     },
     "execution_count": 16,
     "metadata": {},
     "output_type": "execute_result"
    }
   ],
   "source": [
    "my_binom(1,2,.25)"
   ]
  },
  {
   "cell_type": "code",
   "execution_count": 17,
   "metadata": {},
   "outputs": [],
   "source": [
    "def binom_table(n,p):\n",
    "    '''Create the pmf table for a binomial'''\n",
    "    pmf_table=ds.Table().with_columns(\"Number of Successes (x)\",np.arange(n+1))\n",
    "    pmf_table=pmf_table.with_columns(\"Probability P(X=x)\",pmf_table.apply(lambda x:my_binom(x,n,p),0))\n",
    "    return pmf_table"
   ]
  },
  {
   "cell_type": "code",
   "execution_count": 18,
   "metadata": {},
   "outputs": [
    {
     "data": {
      "text/html": [
       "<table border=\"1\" class=\"dataframe\">\n",
       "    <thead>\n",
       "        <tr>\n",
       "            <th>Number of Successes (x)</th> <th>Probability P(X=x)</th>\n",
       "        </tr>\n",
       "    </thead>\n",
       "    <tbody>\n",
       "        <tr>\n",
       "            <td>0                      </td> <td>0.316406          </td>\n",
       "        </tr>\n",
       "        <tr>\n",
       "            <td>1                      </td> <td>0.421875          </td>\n",
       "        </tr>\n",
       "        <tr>\n",
       "            <td>2                      </td> <td>0.210938          </td>\n",
       "        </tr>\n",
       "        <tr>\n",
       "            <td>3                      </td> <td>0.046875          </td>\n",
       "        </tr>\n",
       "        <tr>\n",
       "            <td>4                      </td> <td>0.00390625        </td>\n",
       "        </tr>\n",
       "    </tbody>\n",
       "</table>"
      ],
      "text/plain": [
       "Number of Successes (x) | Probability P(X=x)\n",
       "0                       | 0.316406\n",
       "1                       | 0.421875\n",
       "2                       | 0.210938\n",
       "3                       | 0.046875\n",
       "4                       | 0.00390625"
      ]
     },
     "execution_count": 18,
     "metadata": {},
     "output_type": "execute_result"
    }
   ],
   "source": [
    "binom_table(4,.25)"
   ]
  },
  {
   "cell_type": "code",
   "execution_count": 19,
   "metadata": {},
   "outputs": [
    {
     "data": {
      "text/html": [
       "<table border=\"1\" class=\"dataframe\">\n",
       "    <thead>\n",
       "        <tr>\n",
       "            <th>Number of Successes (x)</th> <th>Cumulative Probability</th>\n",
       "        </tr>\n",
       "    </thead>\n",
       "    <tbody>\n",
       "        <tr>\n",
       "            <td>0                      </td> <td>0.316406              </td>\n",
       "        </tr>\n",
       "        <tr>\n",
       "            <td>1                      </td> <td>0.738281              </td>\n",
       "        </tr>\n",
       "        <tr>\n",
       "            <td>2                      </td> <td>0.949219              </td>\n",
       "        </tr>\n",
       "        <tr>\n",
       "            <td>3                      </td> <td>0.996094              </td>\n",
       "        </tr>\n",
       "        <tr>\n",
       "            <td>4                      </td> <td>1                     </td>\n",
       "        </tr>\n",
       "    </tbody>\n",
       "</table>"
      ],
      "text/plain": [
       "Number of Successes (x) | Cumulative Probability\n",
       "0                       | 0.316406\n",
       "1                       | 0.738281\n",
       "2                       | 0.949219\n",
       "3                       | 0.996094\n",
       "4                       | 1"
      ]
     },
     "execution_count": 19,
     "metadata": {},
     "output_type": "execute_result"
    }
   ],
   "source": [
    "cdf(binom_table(4,.25))"
   ]
  },
  {
   "cell_type": "markdown",
   "metadata": {},
   "source": [
    "##### Checking results"
   ]
  },
  {
   "cell_type": "markdown",
   "metadata": {},
   "source": [
    "The scipy package has common \"named\" distributions built into its stats module. See the [link](https://docs.scipy.org/doc/scipy/reference/stats.html) to the package."
   ]
  },
  {
   "cell_type": "code",
   "execution_count": 20,
   "metadata": {},
   "outputs": [
    {
     "data": {
      "text/plain": [
       "0.21093750000000006"
      ]
     },
     "execution_count": 20,
     "metadata": {},
     "output_type": "execute_result"
    }
   ],
   "source": [
    "stats.binom.pmf(2,4,.25)"
   ]
  },
  {
   "cell_type": "code",
   "execution_count": 21,
   "metadata": {},
   "outputs": [
    {
     "data": {
      "text/plain": [
       "0.94921875"
      ]
     },
     "execution_count": 21,
     "metadata": {},
     "output_type": "execute_result"
    }
   ],
   "source": [
    "stats.binom.cdf(2,4,.25)"
   ]
  },
  {
   "cell_type": "markdown",
   "metadata": {},
   "source": [
    "The mean and variance of a binomial are $$E(X) = np$$ and $$V(X) = np(1-p)$$"
   ]
  },
  {
   "cell_type": "markdown",
   "metadata": {},
   "source": [
    "##### Randomization\n",
    "\n",
    "The scipy package also allows you to obtain random realizations from a random variable with a named distribution. "
   ]
  },
  {
   "cell_type": "code",
   "execution_count": 22,
   "metadata": {},
   "outputs": [
    {
     "data": {
      "text/plain": [
       "array([1, 1, 1, 2, 2, 2, 2, 1, 0, 1])"
      ]
     },
     "execution_count": 22,
     "metadata": {},
     "output_type": "execute_result"
    }
   ],
   "source": [
    "rands=stats.binom.rvs(4,0.25,size=1000)\n",
    "rands[:10]"
   ]
  },
  {
   "cell_type": "markdown",
   "metadata": {},
   "source": [
    "Let's look at the mean and variance of our random sample and compare with the mean and variance above."
   ]
  },
  {
   "cell_type": "code",
   "execution_count": 23,
   "metadata": {},
   "outputs": [
    {
     "name": "stdout",
     "output_type": "stream",
     "text": [
      "1.096\n",
      "1.0\n",
      "0.8147840000000001\n",
      "0.75\n"
     ]
    }
   ],
   "source": [
    "#Mean of random sample\n",
    "print(rands.mean())\n",
    "#Population mean\n",
    "print(4*0.25)\n",
    "#Var of random sample\n",
    "print(rands.var())\n",
    "#Population variance\n",
    "print(4*0.25*0.75)"
   ]
  },
  {
   "cell_type": "markdown",
   "metadata": {},
   "source": [
    "##### Example \n",
    "\n",
    "Suppose you toss a fair die 12 times. Let $X$ be the number of rolls that resulted in 1 and 2.\n",
    "\n",
    "1) Find the pmf of $X$.\n",
    "\n",
    "2) Find the mean and variance of $X$.\n",
    "\n",
    "3) Find the probability that $X$ is in the interval $[3,7]$. "
   ]
  },
  {
   "cell_type": "code",
   "execution_count": 24,
   "metadata": {},
   "outputs": [
    {
     "data": {
      "text/plain": [
       "array([0.00770735, 0.04624408, 0.12717122])"
      ]
     },
     "execution_count": 24,
     "metadata": {},
     "output_type": "execute_result"
    }
   ],
   "source": [
    "stats.binom.pmf(x,12,(1/3))"
   ]
  },
  {
   "cell_type": "code",
   "execution_count": 25,
   "metadata": {},
   "outputs": [
    {
     "name": "stdout",
     "output_type": "stream",
     "text": [
      "mean: 4.0\n",
      "variance: 2.666666666666667\n"
     ]
    }
   ],
   "source": [
    "mean=12*(1/3)\n",
    "var=12*(1/3)*(1-(1/3))\n",
    "\n",
    "print(\"mean:\", mean)\n",
    "print(\"variance:\", var)"
   ]
  },
  {
   "cell_type": "code",
   "execution_count": 26,
   "metadata": {},
   "outputs": [
    {
     "data": {
      "text/plain": [
       "0.688844104990017"
      ]
     },
     "execution_count": 26,
     "metadata": {},
     "output_type": "execute_result"
    }
   ],
   "source": [
    "a=stats.binom.pmf(3,12,(1/3))\n",
    "b=stats.binom.pmf(4,12,(1/3))\n",
    "c=stats.binom.pmf(5,12,(1/3))\n",
    "d=stats.binom.pmf(7,12,(1/3))\n",
    "\n",
    "a+b+c+d"
   ]
  },
  {
   "cell_type": "markdown",
   "metadata": {},
   "source": [
    "#### Negative Binomial  \n",
    "\n",
    "Similar to binomial except that the failures, the trials, are random and the successes are fixed. Notice that the last trial has to be a success.  \n",
    "The general form of the random variable is $X$ number of failures until the r<sup>th</sup> success.  \n",
    "The geometric distribution is a special case where r is 1.\n",
    "Since the trials are not fixed, $x = 0, 1, 2, 3, ...$"
   ]
  },
  {
   "cell_type": "markdown",
   "metadata": {},
   "source": [
    "The closed form solution to the pmf is $$f(x;r,p) = {x+r-1\\choose x}p^{r}(1-p)^{x}$$"
   ]
  },
  {
   "cell_type": "markdown",
   "metadata": {},
   "source": [
    "The mean and variance of a negative binomial are $$E(X) = \\frac{r}{p}-r$$ and $$V(X) = \\frac{r(1-p)}{p^2}$$"
   ]
  },
  {
   "cell_type": "markdown",
   "metadata": {},
   "source": [
    "##### Example\n",
    "\n",
    "Suppose I am a 60% free throw shooter (the probability of making a free throw is 0.6, and all my free throws are independent with identical chance of success). I would like to make 5 free throws. Let $X$ be the number of misses before I make 5 free throws. \n",
    "\n",
    "1) Find the mean and variance of $X$.\n",
    "\n",
    "2) Find the probability I only need 5 attempts to make 5 free throws.\n",
    "\n",
    "3) Find the probability I need at least 10 attempts to make 5 free throws. "
   ]
  },
  {
   "cell_type": "code",
   "execution_count": 27,
   "metadata": {},
   "outputs": [
    {
     "name": "stdout",
     "output_type": "stream",
     "text": [
      "mean: 3.333333333333334\n",
      "variance: 5.555555555555555\n"
     ]
    }
   ],
   "source": [
    "mean2= (5/.6)-5\n",
    "var2=(5*(1-0.6))/(0.6**2)\n",
    "\n",
    "print(\"mean:\", mean2)\n",
    "print(\"variance:\", var2)"
   ]
  },
  {
   "cell_type": "code",
   "execution_count": 28,
   "metadata": {},
   "outputs": [
    {
     "data": {
      "text/plain": [
       "0.07776"
      ]
     },
     "execution_count": 28,
     "metadata": {},
     "output_type": "execute_result"
    }
   ],
   "source": [
    "##P(making 5/5)\n",
    "stats.nbinom.pmf(0,5,.6)"
   ]
  },
  {
   "cell_type": "code",
   "execution_count": 29,
   "metadata": {},
   "outputs": [
    {
     "data": {
      "text/plain": [
       "0.10032906239999997"
      ]
     },
     "execution_count": 29,
     "metadata": {},
     "output_type": "execute_result"
    }
   ],
   "source": [
    "##P(missing 5 and making 5)\n",
    "stats.nbinom.pmf(5,5,.6)"
   ]
  },
  {
   "cell_type": "markdown",
   "metadata": {},
   "source": [
    "#### Poisson\n",
    "\n",
    "The Poisson distribution is common for modeling count or arrival data. It is common to model arrivals using the Poisson process. In this process, $X$, the number of arrivals in a specified amount of time, follows the Poisson distribution with parameter $\\lambda$, the average number of arrivals in that specified amount of time. For $x = 0,1,2,3,...$, the closed form solution to the pmf is\n",
    "$$\n",
    "f(x;\\lambda)=\\frac{e^{-\\lambda}\\lambda^x}{x!}\n",
    "$$"
   ]
  },
  {
   "cell_type": "markdown",
   "metadata": {},
   "source": [
    "The mean and variance are $$E(X)=V(X)=\\lambda$$"
   ]
  },
  {
   "cell_type": "markdown",
   "metadata": {},
   "source": [
    "##### Example\n",
    "\n",
    "Suppose fleet vehicles arrive to a maintenance garage at an average rate of 4 per day. Let's model these arrivals using the Poisson process. Let $X$ be the number of vehicles that arrive in a five day period. \n",
    "\n",
    "1) What is the distribution (with parameter) of $X$? \n",
    "\n",
    "2) Find the probability that fewer than 10 vehicles arrive in a five day period. \n",
    "\n",
    "3) Find the probability that at least 18 vehicles arrive in a five day period. "
   ]
  },
  {
   "cell_type": "code",
   "execution_count": 30,
   "metadata": {},
   "outputs": [
    {
     "data": {
      "text/plain": [
       "0.010811718826652723"
      ]
     },
     "execution_count": 30,
     "metadata": {},
     "output_type": "execute_result"
    }
   ],
   "source": [
    "#1\n"
   ]
  },
  {
   "cell_type": "code",
   "execution_count": 31,
   "metadata": {},
   "outputs": [
    {
     "data": {
      "text/plain": [
       "0.010811718826652723"
      ]
     },
     "execution_count": 31,
     "metadata": {},
     "output_type": "execute_result"
    }
   ],
   "source": [
    "#2\n",
    "stats.poisson.cdf(10,20)"
   ]
  },
  {
   "cell_type": "code",
   "execution_count": 33,
   "metadata": {},
   "outputs": [
    {
     "data": {
      "text/plain": [
       "0.6185780505528449"
      ]
     },
     "execution_count": 33,
     "metadata": {},
     "output_type": "execute_result"
    }
   ],
   "source": [
    "#3\n",
    "1-stats.poisson.cdf(18,20)"
   ]
  },
  {
   "cell_type": "markdown",
   "metadata": {},
   "source": [
    "#### Hypergeometric\n",
    "\n",
    "The hypergeometric distribution is similar to the binomial distribution, but where outcomes are drawn without replacement. $X$ is the number of successes out of $N$ trials, but these trials are selected out of a finite population containing $M$ objects with $n$ successes. We can think of this as an urn problem similar to those we discussed in the Lesson 8 notebook. For $N-(M-n) \\leq x \\leq \\min(n,N)$, \n",
    "$$\n",
    "f(x;N,n,M)= \\frac{{n\\choose k}{{M-n}\\choose {N-k}}}{M\\choose N}\n",
    "$$\n",
    "\n",
    "The mean and variance are \n",
    "$$\n",
    "E(X)=\\frac{nN}{M}\n",
    "$$\n",
    "\n",
    "and\n",
    "$$\n",
    "V(X)=\\frac{nN(M-n)(M-N)}{M^2(M-1)}\n",
    "$$"
   ]
  },
  {
   "cell_type": "markdown",
   "metadata": {},
   "source": [
    "##### Example\n",
    "\n",
    "Suppose we have an urn containing 6 blue, 9 red and 8 white balls. We select 6 at random. Let $X$ be the number of red balls we select in our sample of 6. \n",
    "\n",
    "1) Find the expected value of $X$.\n",
    "\n",
    "2) Find $P(X\\geq 2)$. \n",
    "\n",
    "3) Find the variance of $X$. Verify your calculation by generating a large random sample and computing the variance of that random sample. "
   ]
  },
  {
   "cell_type": "code",
   "execution_count": 35,
   "metadata": {},
   "outputs": [
    {
     "data": {
      "text/plain": [
       "2.347826086956522"
      ]
     },
     "execution_count": 35,
     "metadata": {},
     "output_type": "execute_result"
    }
   ],
   "source": [
    "#1\n",
    "e=(9*6)/23\n",
    "e"
   ]
  },
  {
   "cell_type": "code",
   "execution_count": 36,
   "metadata": {},
   "outputs": [
    {
     "data": {
      "text/plain": [
       "0.821510297482837"
      ]
     },
     "execution_count": 36,
     "metadata": {},
     "output_type": "execute_result"
    }
   ],
   "source": [
    "#2 \n",
    "1-stats.hypergeom.pmf(1,23,9,6)"
   ]
  },
  {
   "cell_type": "code",
   "execution_count": 38,
   "metadata": {},
   "outputs": [
    {
     "data": {
      "text/plain": [
       "1.1043134559202612"
      ]
     },
     "execution_count": 38,
     "metadata": {},
     "output_type": "execute_result"
    }
   ],
   "source": [
    "#3\n",
    "variance=stats.hypergeom.var(23,9,6)\n",
    "variance"
   ]
  },
  {
   "cell_type": "markdown",
   "metadata": {},
   "source": [
    "#### Uniform\n",
    "\n",
    "A random variable with the discrete uniform distribution, with parameters $a$ and $b$, has an equal probability of taking on any integers in the range $[a,b)$. For $a\\leq x < b$,\n",
    "$$\n",
    "f(x;a,b)= \\frac{1}{b-a}\n",
    "$$\n",
    "\n",
    "The mean and variance are \n",
    "$$\n",
    "E(X) = \\frac{b+a-1}{2}\n",
    "$$\n",
    "\n",
    "and \n",
    "$$\n",
    "V(X) = \\frac{(b-a-1)(b-a+1)}{12}\n",
    "$$\n"
   ]
  },
  {
   "cell_type": "markdown",
   "metadata": {},
   "source": [
    "#### Multinomial\n",
    "\n",
    "The multinomial distribution is a generalization of binomial distribution. In the binomial case, trials can result in either success or failure. In the multinomial case, there could be more than two distinct outcomes. Here, the random variable $X$ is a vector (rather than a scalar) representing the counts of each outcome. For more information regarding the multinomial distribution, please review the `scipy` documentation (https://docs.scipy.org/doc/scipy/reference/generated/scipy.stats.multinomial.html). "
   ]
  },
  {
   "cell_type": "markdown",
   "metadata": {},
   "source": [
    "### Continuous Distributions"
   ]
  },
  {
   "cell_type": "markdown",
   "metadata": {},
   "source": [
    "Now we turn to random variables that can take on any value in a range rather than only distinct points. These continous distributions differ in several ways from their discrete counterparts. \n",
    "\n",
    "Rather than a pmf, each continuous random variable has a **probability density function** (pdf). This too is represented by $f_X(x)$, but the function does not return a probability but rather a density. The pdf has the properties that \n",
    "1. $f(x) \\geq 0$  \n",
    "\n",
    "2. $\\int_{-\\infty}^{\\infty} f(y) dy = 1$\n",
    "\n",
    "Also, each random variable as a **cumulative distribution function** (cdf). This function has the same meaning as in the discrete case, but can be found via integration:  \n",
    "$$ F_{X}(x) = P(X \\leq x) = \\int_{-\\infty}^x f(y)dy $$"
   ]
  },
  {
   "cell_type": "markdown",
   "metadata": {},
   "source": [
    "Suppose $Y$ is a continuous random variable that can take any value in the interval $[0,1]$. It has the pdf $f_Y(y) = 2y$ in this interval. Because $Y$ is a continuous random variable the probablility at any specific value is technically 0. We could find the probability that $Y$ takes a value in any range by integrating across this function. For example: \n",
    "$$\n",
    "P(0\\leq Y \\leq 0.5) = \\int_0^{0.5} 2y dy = y^2\\bigg|_0^{0.5} = 0.25\n",
    "$$"
   ]
  },
  {
   "cell_type": "code",
   "execution_count": 39,
   "metadata": {},
   "outputs": [],
   "source": [
    "from scipy import integrate"
   ]
  },
  {
   "cell_type": "markdown",
   "metadata": {},
   "source": [
    "Create a function for the pdf"
   ]
  },
  {
   "cell_type": "code",
   "execution_count": 40,
   "metadata": {},
   "outputs": [],
   "source": [
    "def my_pdf(x):\n",
    "    if x<0 or x>1:\n",
    "        return 0\n",
    "    return 2*x"
   ]
  },
  {
   "cell_type": "code",
   "execution_count": 41,
   "metadata": {},
   "outputs": [
    {
     "data": {
      "text/plain": [
       "0.25"
      ]
     },
     "execution_count": 41,
     "metadata": {},
     "output_type": "execute_result"
    }
   ],
   "source": [
    "np.round(integrate.quad(lambda x:my_pdf(x),0,.5)[0],5)"
   ]
  },
  {
   "cell_type": "code",
   "execution_count": 42,
   "metadata": {},
   "outputs": [
    {
     "data": {
      "text/plain": [
       "1.0"
      ]
     },
     "execution_count": 42,
     "metadata": {},
     "output_type": "execute_result"
    }
   ],
   "source": [
    "np.round(integrate.quad(lambda x:my_pdf(x),-3,2)[0],5)"
   ]
  },
  {
   "cell_type": "markdown",
   "metadata": {},
   "source": [
    "### Moments\n",
    "\n",
    "As in the discrete case, continuous random variables can be summarized using moments. However, we can use integration rather than direct sums. Let $X$ be a continuous random variable with pdf $f(x)$:\n",
    "$$\n",
    "E(g(x))=\\int_x g(x)f(x)dx\n",
    "$$\n",
    "\n",
    "The mean, or expected value, of $X$ is found by:\n",
    "$$\n",
    "E(X)=\\int_x xf(x)dx\n",
    "$$\n",
    "\n",
    "The variance of $X$ is:\n",
    "$$\n",
    "V(X)=E((X-\\mu)^2)=\\int_x (x-\\mu)^2f(x) dx\n",
    "$$\n",
    "\n",
    "Also, the expression for variance can be simplified to $V(X)= E(X^2) - \\mu^2$. \n"
   ]
  },
  {
   "cell_type": "markdown",
   "metadata": {},
   "source": [
    "We can use Python to integrate numerically. To find the expected value of $X$:"
   ]
  },
  {
   "cell_type": "code",
   "execution_count": 43,
   "metadata": {},
   "outputs": [
    {
     "data": {
      "text/plain": [
       "0.66667"
      ]
     },
     "execution_count": 43,
     "metadata": {},
     "output_type": "execute_result"
    }
   ],
   "source": [
    "np.round(integrate.quad(lambda x:x*my_pdf(x),-3,2)[0],5)"
   ]
  },
  {
   "cell_type": "markdown",
   "metadata": {},
   "source": [
    "##### Example\n",
    "\n",
    "1) Let $g(x)=kx^2$ on $[0,2]$. Find $k$ that makes $g(x)$ a proper pdf. \n",
    "\n",
    "2) Find $P(.5<X<1.5)$\n",
    "\n",
    "3) Find $E(X)$"
   ]
  },
  {
   "cell_type": "code",
   "execution_count": 46,
   "metadata": {},
   "outputs": [
    {
     "data": {
      "text/plain": [
       "0.375"
      ]
     },
     "execution_count": 46,
     "metadata": {},
     "output_type": "execute_result"
    }
   ],
   "source": [
    "#1\n",
    "k=3/8\n",
    "k"
   ]
  },
  {
   "cell_type": "code",
   "execution_count": 48,
   "metadata": {
    "collapsed": true
   },
   "outputs": [
    {
     "ename": "TypeError",
     "evalue": "unsupported operand type(s) for ^: 'float' and 'int'",
     "output_type": "error",
     "traceback": [
      "\u001b[1;31m---------------------------------------------------------------------------\u001b[0m",
      "\u001b[1;31mTypeError\u001b[0m                                 Traceback (most recent call last)",
      "\u001b[1;32m<ipython-input-48-03af035f218d>\u001b[0m in \u001b[0;36m<module>\u001b[1;34m()\u001b[0m\n\u001b[0;32m      5\u001b[0m     \u001b[1;32mreturn\u001b[0m \u001b[1;36m0.375\u001b[0m\u001b[1;33m*\u001b[0m \u001b[0mx\u001b[0m\u001b[1;33m^\u001b[0m\u001b[1;36m2\u001b[0m\u001b[1;33m\u001b[0m\u001b[0m\n\u001b[0;32m      6\u001b[0m \u001b[1;33m\u001b[0m\u001b[0m\n\u001b[1;32m----> 7\u001b[1;33m \u001b[0mJ\u001b[0m \u001b[1;33m=\u001b[0m \u001b[0mnp\u001b[0m\u001b[1;33m.\u001b[0m\u001b[0mround\u001b[0m\u001b[1;33m(\u001b[0m\u001b[0mintegrate\u001b[0m\u001b[1;33m.\u001b[0m\u001b[0mquad\u001b[0m\u001b[1;33m(\u001b[0m\u001b[1;32mlambda\u001b[0m \u001b[0mx\u001b[0m\u001b[1;33m:\u001b[0m\u001b[0mmy_F\u001b[0m\u001b[1;33m(\u001b[0m\u001b[0mx\u001b[0m\u001b[1;33m)\u001b[0m\u001b[1;33m,\u001b[0m\u001b[1;36m0.5\u001b[0m\u001b[1;33m,\u001b[0m\u001b[1;36m1.5\u001b[0m\u001b[1;33m)\u001b[0m\u001b[1;33m[\u001b[0m\u001b[1;36m0\u001b[0m\u001b[1;33m]\u001b[0m\u001b[1;33m,\u001b[0m\u001b[1;36m5\u001b[0m\u001b[1;33m)\u001b[0m\u001b[1;33m\u001b[0m\u001b[0m\n\u001b[0m\u001b[0;32m      8\u001b[0m \u001b[0mprint\u001b[0m\u001b[1;33m(\u001b[0m\u001b[0mJ\u001b[0m\u001b[1;33m)\u001b[0m\u001b[1;33m\u001b[0m\u001b[0m\n",
      "\u001b[1;32m~\\AppData\\Local\\Continuum\\anaconda3\\lib\\site-packages\\scipy\\integrate\\quadpack.py\u001b[0m in \u001b[0;36mquad\u001b[1;34m(func, a, b, args, full_output, epsabs, epsrel, limit, points, weight, wvar, wopts, maxp1, limlst)\u001b[0m\n\u001b[0;32m    339\u001b[0m     \u001b[1;32mif\u001b[0m \u001b[0mweight\u001b[0m \u001b[1;32mis\u001b[0m \u001b[1;32mNone\u001b[0m\u001b[1;33m:\u001b[0m\u001b[1;33m\u001b[0m\u001b[0m\n\u001b[0;32m    340\u001b[0m         retval = _quad(func, a, b, args, full_output, epsabs, epsrel, limit,\n\u001b[1;32m--> 341\u001b[1;33m                        points)\n\u001b[0m\u001b[0;32m    342\u001b[0m     \u001b[1;32melse\u001b[0m\u001b[1;33m:\u001b[0m\u001b[1;33m\u001b[0m\u001b[0m\n\u001b[0;32m    343\u001b[0m         retval = _quad_weight(func, a, b, args, full_output, epsabs, epsrel,\n",
      "\u001b[1;32m~\\AppData\\Local\\Continuum\\anaconda3\\lib\\site-packages\\scipy\\integrate\\quadpack.py\u001b[0m in \u001b[0;36m_quad\u001b[1;34m(func, a, b, args, full_output, epsabs, epsrel, limit, points)\u001b[0m\n\u001b[0;32m    446\u001b[0m     \u001b[1;32mif\u001b[0m \u001b[0mpoints\u001b[0m \u001b[1;32mis\u001b[0m \u001b[1;32mNone\u001b[0m\u001b[1;33m:\u001b[0m\u001b[1;33m\u001b[0m\u001b[0m\n\u001b[0;32m    447\u001b[0m         \u001b[1;32mif\u001b[0m \u001b[0minfbounds\u001b[0m \u001b[1;33m==\u001b[0m \u001b[1;36m0\u001b[0m\u001b[1;33m:\u001b[0m\u001b[1;33m\u001b[0m\u001b[0m\n\u001b[1;32m--> 448\u001b[1;33m             \u001b[1;32mreturn\u001b[0m \u001b[0m_quadpack\u001b[0m\u001b[1;33m.\u001b[0m\u001b[0m_qagse\u001b[0m\u001b[1;33m(\u001b[0m\u001b[0mfunc\u001b[0m\u001b[1;33m,\u001b[0m\u001b[0ma\u001b[0m\u001b[1;33m,\u001b[0m\u001b[0mb\u001b[0m\u001b[1;33m,\u001b[0m\u001b[0margs\u001b[0m\u001b[1;33m,\u001b[0m\u001b[0mfull_output\u001b[0m\u001b[1;33m,\u001b[0m\u001b[0mepsabs\u001b[0m\u001b[1;33m,\u001b[0m\u001b[0mepsrel\u001b[0m\u001b[1;33m,\u001b[0m\u001b[0mlimit\u001b[0m\u001b[1;33m)\u001b[0m\u001b[1;33m\u001b[0m\u001b[0m\n\u001b[0m\u001b[0;32m    449\u001b[0m         \u001b[1;32melse\u001b[0m\u001b[1;33m:\u001b[0m\u001b[1;33m\u001b[0m\u001b[0m\n\u001b[0;32m    450\u001b[0m             \u001b[1;32mreturn\u001b[0m \u001b[0m_quadpack\u001b[0m\u001b[1;33m.\u001b[0m\u001b[0m_qagie\u001b[0m\u001b[1;33m(\u001b[0m\u001b[0mfunc\u001b[0m\u001b[1;33m,\u001b[0m\u001b[0mbound\u001b[0m\u001b[1;33m,\u001b[0m\u001b[0minfbounds\u001b[0m\u001b[1;33m,\u001b[0m\u001b[0margs\u001b[0m\u001b[1;33m,\u001b[0m\u001b[0mfull_output\u001b[0m\u001b[1;33m,\u001b[0m\u001b[0mepsabs\u001b[0m\u001b[1;33m,\u001b[0m\u001b[0mepsrel\u001b[0m\u001b[1;33m,\u001b[0m\u001b[0mlimit\u001b[0m\u001b[1;33m)\u001b[0m\u001b[1;33m\u001b[0m\u001b[0m\n",
      "\u001b[1;32m<ipython-input-48-03af035f218d>\u001b[0m in \u001b[0;36m<lambda>\u001b[1;34m(x)\u001b[0m\n\u001b[0;32m      5\u001b[0m     \u001b[1;32mreturn\u001b[0m \u001b[1;36m0.375\u001b[0m\u001b[1;33m*\u001b[0m \u001b[0mx\u001b[0m\u001b[1;33m^\u001b[0m\u001b[1;36m2\u001b[0m\u001b[1;33m\u001b[0m\u001b[0m\n\u001b[0;32m      6\u001b[0m \u001b[1;33m\u001b[0m\u001b[0m\n\u001b[1;32m----> 7\u001b[1;33m \u001b[0mJ\u001b[0m \u001b[1;33m=\u001b[0m \u001b[0mnp\u001b[0m\u001b[1;33m.\u001b[0m\u001b[0mround\u001b[0m\u001b[1;33m(\u001b[0m\u001b[0mintegrate\u001b[0m\u001b[1;33m.\u001b[0m\u001b[0mquad\u001b[0m\u001b[1;33m(\u001b[0m\u001b[1;32mlambda\u001b[0m \u001b[0mx\u001b[0m\u001b[1;33m:\u001b[0m\u001b[0mmy_F\u001b[0m\u001b[1;33m(\u001b[0m\u001b[0mx\u001b[0m\u001b[1;33m)\u001b[0m\u001b[1;33m,\u001b[0m\u001b[1;36m0.5\u001b[0m\u001b[1;33m,\u001b[0m\u001b[1;36m1.5\u001b[0m\u001b[1;33m)\u001b[0m\u001b[1;33m[\u001b[0m\u001b[1;36m0\u001b[0m\u001b[1;33m]\u001b[0m\u001b[1;33m,\u001b[0m\u001b[1;36m5\u001b[0m\u001b[1;33m)\u001b[0m\u001b[1;33m\u001b[0m\u001b[0m\n\u001b[0m\u001b[0;32m      8\u001b[0m \u001b[0mprint\u001b[0m\u001b[1;33m(\u001b[0m\u001b[0mJ\u001b[0m\u001b[1;33m)\u001b[0m\u001b[1;33m\u001b[0m\u001b[0m\n",
      "\u001b[1;32m<ipython-input-48-03af035f218d>\u001b[0m in \u001b[0;36mmy_F\u001b[1;34m(x)\u001b[0m\n\u001b[0;32m      3\u001b[0m     \u001b[1;32mif\u001b[0m \u001b[0mx\u001b[0m\u001b[1;33m<\u001b[0m\u001b[1;36m0\u001b[0m \u001b[1;32mor\u001b[0m \u001b[0mx\u001b[0m\u001b[1;33m>\u001b[0m\u001b[1;36m2\u001b[0m\u001b[1;33m:\u001b[0m\u001b[1;33m\u001b[0m\u001b[0m\n\u001b[0;32m      4\u001b[0m         \u001b[1;32mreturn\u001b[0m \u001b[1;36m0\u001b[0m\u001b[1;33m\u001b[0m\u001b[0m\n\u001b[1;32m----> 5\u001b[1;33m     \u001b[1;32mreturn\u001b[0m \u001b[1;36m0.375\u001b[0m\u001b[1;33m*\u001b[0m \u001b[0mx\u001b[0m\u001b[1;33m^\u001b[0m\u001b[1;36m2\u001b[0m\u001b[1;33m\u001b[0m\u001b[0m\n\u001b[0m\u001b[0;32m      6\u001b[0m \u001b[1;33m\u001b[0m\u001b[0m\n\u001b[0;32m      7\u001b[0m \u001b[0mJ\u001b[0m \u001b[1;33m=\u001b[0m \u001b[0mnp\u001b[0m\u001b[1;33m.\u001b[0m\u001b[0mround\u001b[0m\u001b[1;33m(\u001b[0m\u001b[0mintegrate\u001b[0m\u001b[1;33m.\u001b[0m\u001b[0mquad\u001b[0m\u001b[1;33m(\u001b[0m\u001b[1;32mlambda\u001b[0m \u001b[0mx\u001b[0m\u001b[1;33m:\u001b[0m\u001b[0mmy_F\u001b[0m\u001b[1;33m(\u001b[0m\u001b[0mx\u001b[0m\u001b[1;33m)\u001b[0m\u001b[1;33m,\u001b[0m\u001b[1;36m0.5\u001b[0m\u001b[1;33m,\u001b[0m\u001b[1;36m1.5\u001b[0m\u001b[1;33m)\u001b[0m\u001b[1;33m[\u001b[0m\u001b[1;36m0\u001b[0m\u001b[1;33m]\u001b[0m\u001b[1;33m,\u001b[0m\u001b[1;36m5\u001b[0m\u001b[1;33m)\u001b[0m\u001b[1;33m\u001b[0m\u001b[0m\n",
      "\u001b[1;31mTypeError\u001b[0m: unsupported operand type(s) for ^: 'float' and 'int'"
     ]
    }
   ],
   "source": [
    "#2\n",
    "def my_F(x):\n",
    "    if x<0 or x>2:\n",
    "        return 0\n",
    "    return 0.375* x^2\n",
    "\n",
    "a = np.round(integrate.quad(lambda x:my_F(x),0.5,1.5)[0],5)\n",
    "a"
   ]
  },
  {
   "cell_type": "code",
   "execution_count": 50,
   "metadata": {
    "collapsed": true
   },
   "outputs": [
    {
     "ename": "TypeError",
     "evalue": "unsupported operand type(s) for ^: 'float' and 'int'",
     "output_type": "error",
     "traceback": [
      "\u001b[1;31m---------------------------------------------------------------------------\u001b[0m",
      "\u001b[1;31mTypeError\u001b[0m                                 Traceback (most recent call last)",
      "\u001b[1;32m<ipython-input-50-9a580a7cfef7>\u001b[0m in \u001b[0;36m<module>\u001b[1;34m()\u001b[0m\n\u001b[0;32m      1\u001b[0m \u001b[1;31m#3\u001b[0m\u001b[1;33m\u001b[0m\u001b[1;33m\u001b[0m\u001b[0m\n\u001b[1;32m----> 2\u001b[1;33m \u001b[0me\u001b[0m \u001b[1;33m=\u001b[0m \u001b[0mnp\u001b[0m\u001b[1;33m.\u001b[0m\u001b[0mround\u001b[0m\u001b[1;33m(\u001b[0m\u001b[0mintegrate\u001b[0m\u001b[1;33m.\u001b[0m\u001b[0mquad\u001b[0m\u001b[1;33m(\u001b[0m\u001b[1;32mlambda\u001b[0m \u001b[0mx\u001b[0m\u001b[1;33m:\u001b[0m\u001b[0mx\u001b[0m\u001b[1;33m*\u001b[0m\u001b[0mmy_F\u001b[0m\u001b[1;33m(\u001b[0m\u001b[0mx\u001b[0m\u001b[1;33m)\u001b[0m\u001b[1;33m,\u001b[0m\u001b[1;36m0\u001b[0m\u001b[1;33m,\u001b[0m\u001b[1;36m2\u001b[0m\u001b[1;33m)\u001b[0m\u001b[1;33m[\u001b[0m\u001b[1;36m0\u001b[0m\u001b[1;33m]\u001b[0m\u001b[1;33m,\u001b[0m\u001b[1;36m5\u001b[0m\u001b[1;33m)\u001b[0m\u001b[1;33m\u001b[0m\u001b[0m\n\u001b[0m\u001b[0;32m      3\u001b[0m \u001b[0me\u001b[0m\u001b[1;33m\u001b[0m\u001b[0m\n",
      "\u001b[1;32m~\\AppData\\Local\\Continuum\\anaconda3\\lib\\site-packages\\scipy\\integrate\\quadpack.py\u001b[0m in \u001b[0;36mquad\u001b[1;34m(func, a, b, args, full_output, epsabs, epsrel, limit, points, weight, wvar, wopts, maxp1, limlst)\u001b[0m\n\u001b[0;32m    339\u001b[0m     \u001b[1;32mif\u001b[0m \u001b[0mweight\u001b[0m \u001b[1;32mis\u001b[0m \u001b[1;32mNone\u001b[0m\u001b[1;33m:\u001b[0m\u001b[1;33m\u001b[0m\u001b[0m\n\u001b[0;32m    340\u001b[0m         retval = _quad(func, a, b, args, full_output, epsabs, epsrel, limit,\n\u001b[1;32m--> 341\u001b[1;33m                        points)\n\u001b[0m\u001b[0;32m    342\u001b[0m     \u001b[1;32melse\u001b[0m\u001b[1;33m:\u001b[0m\u001b[1;33m\u001b[0m\u001b[0m\n\u001b[0;32m    343\u001b[0m         retval = _quad_weight(func, a, b, args, full_output, epsabs, epsrel,\n",
      "\u001b[1;32m~\\AppData\\Local\\Continuum\\anaconda3\\lib\\site-packages\\scipy\\integrate\\quadpack.py\u001b[0m in \u001b[0;36m_quad\u001b[1;34m(func, a, b, args, full_output, epsabs, epsrel, limit, points)\u001b[0m\n\u001b[0;32m    446\u001b[0m     \u001b[1;32mif\u001b[0m \u001b[0mpoints\u001b[0m \u001b[1;32mis\u001b[0m \u001b[1;32mNone\u001b[0m\u001b[1;33m:\u001b[0m\u001b[1;33m\u001b[0m\u001b[0m\n\u001b[0;32m    447\u001b[0m         \u001b[1;32mif\u001b[0m \u001b[0minfbounds\u001b[0m \u001b[1;33m==\u001b[0m \u001b[1;36m0\u001b[0m\u001b[1;33m:\u001b[0m\u001b[1;33m\u001b[0m\u001b[0m\n\u001b[1;32m--> 448\u001b[1;33m             \u001b[1;32mreturn\u001b[0m \u001b[0m_quadpack\u001b[0m\u001b[1;33m.\u001b[0m\u001b[0m_qagse\u001b[0m\u001b[1;33m(\u001b[0m\u001b[0mfunc\u001b[0m\u001b[1;33m,\u001b[0m\u001b[0ma\u001b[0m\u001b[1;33m,\u001b[0m\u001b[0mb\u001b[0m\u001b[1;33m,\u001b[0m\u001b[0margs\u001b[0m\u001b[1;33m,\u001b[0m\u001b[0mfull_output\u001b[0m\u001b[1;33m,\u001b[0m\u001b[0mepsabs\u001b[0m\u001b[1;33m,\u001b[0m\u001b[0mepsrel\u001b[0m\u001b[1;33m,\u001b[0m\u001b[0mlimit\u001b[0m\u001b[1;33m)\u001b[0m\u001b[1;33m\u001b[0m\u001b[0m\n\u001b[0m\u001b[0;32m    449\u001b[0m         \u001b[1;32melse\u001b[0m\u001b[1;33m:\u001b[0m\u001b[1;33m\u001b[0m\u001b[0m\n\u001b[0;32m    450\u001b[0m             \u001b[1;32mreturn\u001b[0m \u001b[0m_quadpack\u001b[0m\u001b[1;33m.\u001b[0m\u001b[0m_qagie\u001b[0m\u001b[1;33m(\u001b[0m\u001b[0mfunc\u001b[0m\u001b[1;33m,\u001b[0m\u001b[0mbound\u001b[0m\u001b[1;33m,\u001b[0m\u001b[0minfbounds\u001b[0m\u001b[1;33m,\u001b[0m\u001b[0margs\u001b[0m\u001b[1;33m,\u001b[0m\u001b[0mfull_output\u001b[0m\u001b[1;33m,\u001b[0m\u001b[0mepsabs\u001b[0m\u001b[1;33m,\u001b[0m\u001b[0mepsrel\u001b[0m\u001b[1;33m,\u001b[0m\u001b[0mlimit\u001b[0m\u001b[1;33m)\u001b[0m\u001b[1;33m\u001b[0m\u001b[0m\n",
      "\u001b[1;32m<ipython-input-50-9a580a7cfef7>\u001b[0m in \u001b[0;36m<lambda>\u001b[1;34m(x)\u001b[0m\n\u001b[0;32m      1\u001b[0m \u001b[1;31m#3\u001b[0m\u001b[1;33m\u001b[0m\u001b[1;33m\u001b[0m\u001b[0m\n\u001b[1;32m----> 2\u001b[1;33m \u001b[0me\u001b[0m \u001b[1;33m=\u001b[0m \u001b[0mnp\u001b[0m\u001b[1;33m.\u001b[0m\u001b[0mround\u001b[0m\u001b[1;33m(\u001b[0m\u001b[0mintegrate\u001b[0m\u001b[1;33m.\u001b[0m\u001b[0mquad\u001b[0m\u001b[1;33m(\u001b[0m\u001b[1;32mlambda\u001b[0m \u001b[0mx\u001b[0m\u001b[1;33m:\u001b[0m\u001b[0mx\u001b[0m\u001b[1;33m*\u001b[0m\u001b[0mmy_F\u001b[0m\u001b[1;33m(\u001b[0m\u001b[0mx\u001b[0m\u001b[1;33m)\u001b[0m\u001b[1;33m,\u001b[0m\u001b[1;36m0\u001b[0m\u001b[1;33m,\u001b[0m\u001b[1;36m2\u001b[0m\u001b[1;33m)\u001b[0m\u001b[1;33m[\u001b[0m\u001b[1;36m0\u001b[0m\u001b[1;33m]\u001b[0m\u001b[1;33m,\u001b[0m\u001b[1;36m5\u001b[0m\u001b[1;33m)\u001b[0m\u001b[1;33m\u001b[0m\u001b[0m\n\u001b[0m\u001b[0;32m      3\u001b[0m \u001b[0me\u001b[0m\u001b[1;33m\u001b[0m\u001b[0m\n",
      "\u001b[1;32m<ipython-input-48-03af035f218d>\u001b[0m in \u001b[0;36mmy_F\u001b[1;34m(x)\u001b[0m\n\u001b[0;32m      3\u001b[0m     \u001b[1;32mif\u001b[0m \u001b[0mx\u001b[0m\u001b[1;33m<\u001b[0m\u001b[1;36m0\u001b[0m \u001b[1;32mor\u001b[0m \u001b[0mx\u001b[0m\u001b[1;33m>\u001b[0m\u001b[1;36m2\u001b[0m\u001b[1;33m:\u001b[0m\u001b[1;33m\u001b[0m\u001b[0m\n\u001b[0;32m      4\u001b[0m         \u001b[1;32mreturn\u001b[0m \u001b[1;36m0\u001b[0m\u001b[1;33m\u001b[0m\u001b[0m\n\u001b[1;32m----> 5\u001b[1;33m     \u001b[1;32mreturn\u001b[0m \u001b[1;36m0.375\u001b[0m\u001b[1;33m*\u001b[0m \u001b[0mx\u001b[0m\u001b[1;33m^\u001b[0m\u001b[1;36m2\u001b[0m\u001b[1;33m\u001b[0m\u001b[0m\n\u001b[0m\u001b[0;32m      6\u001b[0m \u001b[1;33m\u001b[0m\u001b[0m\n\u001b[0;32m      7\u001b[0m \u001b[0mJ\u001b[0m \u001b[1;33m=\u001b[0m \u001b[0mnp\u001b[0m\u001b[1;33m.\u001b[0m\u001b[0mround\u001b[0m\u001b[1;33m(\u001b[0m\u001b[0mintegrate\u001b[0m\u001b[1;33m.\u001b[0m\u001b[0mquad\u001b[0m\u001b[1;33m(\u001b[0m\u001b[1;32mlambda\u001b[0m \u001b[0mx\u001b[0m\u001b[1;33m:\u001b[0m\u001b[0mmy_F\u001b[0m\u001b[1;33m(\u001b[0m\u001b[0mx\u001b[0m\u001b[1;33m)\u001b[0m\u001b[1;33m,\u001b[0m\u001b[1;36m0.5\u001b[0m\u001b[1;33m,\u001b[0m\u001b[1;36m1.5\u001b[0m\u001b[1;33m)\u001b[0m\u001b[1;33m[\u001b[0m\u001b[1;36m0\u001b[0m\u001b[1;33m]\u001b[0m\u001b[1;33m,\u001b[0m\u001b[1;36m5\u001b[0m\u001b[1;33m)\u001b[0m\u001b[1;33m\u001b[0m\u001b[0m\n",
      "\u001b[1;31mTypeError\u001b[0m: unsupported operand type(s) for ^: 'float' and 'int'"
     ]
    }
   ],
   "source": [
    "#3\n",
    "e = np.round(integrate.quad(lambda x:x*my_F(x),0,2)[0],5)\n",
    "e"
   ]
  },
  {
   "cell_type": "markdown",
   "metadata": {},
   "source": [
    "#### Uniform\n",
    "\n",
    "The simplest continuous distribution is the uniform distribution. Let $X$ be a random variable that has the continuous uniform distribution on $[a,b]$. $X$ has equal probability of taking any value in this range. For $a \\leq x \\leq b$, \n",
    "$$\n",
    "f(x)=\\frac{1}{b-a}\n",
    "$$\n",
    "\n",
    "The mean and variance are\n",
    "$$\n",
    "E(X)=\\frac{a+b}{2}\n",
    "$$\n",
    "\n",
    "and \n",
    "$$\n",
    "V(X)=\\frac{(b-a)^2}{12}\n",
    "$$"
   ]
  },
  {
   "cell_type": "markdown",
   "metadata": {},
   "source": [
    "#### Exponential\n",
    "\n",
    "The exponential distribution is closely related to the Poisson distribution. Both distributions are results of a Poisson process. Recall that in a Poisson process, if $X$ represents the number of arrivals in a certain amount of time, then $X$ follows a Poisson distribution with parameter $\\lambda$, the mean number of arrivals in that amount of time. \n",
    "\n",
    "Let $Y$ represent the amount of time until the next arrival in this process. $Y$ follows an exponential distribution with parameter $\\lambda$, the mean number of arrivals in *unit* time. Note that in `scipy`, the parameter is specified with the `scale` argument, where `scale` is equal to $1/\\lambda$. \n",
    "\n",
    "For $y\\geq 0$,\n",
    "$$\n",
    "f(y)=\\lambda e^{-\\lambda y}\n",
    "$$\n",
    "\n",
    "The mean and variance are \n",
    "$$\n",
    "E(Y)=\\frac{1}{\\lambda}\n",
    "$$\n",
    "and \n",
    "$$\n",
    "V(Y)=\\frac{1}{\\lambda^2}\n",
    "$$\n"
   ]
  },
  {
   "cell_type": "markdown",
   "metadata": {},
   "source": [
    "##### Example\n",
    "\n",
    "Suppose fleet vehicles arrive to a maintenance garage at an average rate of 4 per day. Let's model these arrivals using the Poisson process. Let $Y$ be the time (in days) until the next arrival. \n",
    "\n",
    "1) What is the distribution (with parameter) of $Y$? \n",
    "\n",
    "2) Find the probability that no vehicles arrive in the next five days. \n",
    "\n",
    "3) Find the probability that the next vehicle will arrive at least 2 days from now, but before 4 days from now. "
   ]
  },
  {
   "cell_type": "code",
   "execution_count": 56,
   "metadata": {},
   "outputs": [
    {
     "data": {
      "text/plain": [
       "8.244614489754231e-09"
      ]
     },
     "execution_count": 56,
     "metadata": {},
     "output_type": "execute_result"
    }
   ],
   "source": [
    "#2\n",
    "lambda_exp=4\n",
    "stats.expon.pdf(5,scale=1/lambda_exp)"
   ]
  },
  {
   "cell_type": "code",
   "execution_count": 51,
   "metadata": {},
   "outputs": [
    {
     "name": "stdout",
     "output_type": "stream",
     "text": [
      "0.00033535009272778193\n"
     ]
    }
   ],
   "source": [
    "#3\n",
    "lambda_exp=4\n",
    "print(stats.expon.cdf(4,scale=1/lambda_exp)-stats.expon.cdf(2,scale=1/lambda_exp))"
   ]
  },
  {
   "cell_type": "markdown",
   "metadata": {},
   "source": [
    "#### Normal\n",
    "\n",
    "The normal (or Gaussian) distribution is an incredibly important distribution in probability and statistics. You have certainly seen a bell curve at some point and are likely aware that certain quantities take a bell shaped, or normal, distribution. \n",
    "\n",
    "Let $X \\sim \\textsf{N}(\\mu,\\sigma)$. The parameters $\\mu$ and $\\sigma$ represent the mean and standard deviation of $X$. In `scipy`, these are referred to as `loc` and `scale`. \n",
    "\n",
    "For $-\\infty < x < \\infty$,\n",
    "$$\n",
    "f(x;\\mu,\\sigma) = \\frac{1}{\\sqrt{2\\pi\\sigma^2}}e^{-\\frac{(x-\\mu)^2}{2\\sigma^2}}\n",
    "$$\n",
    "\n",
    "As mentioned, the mean and variance are $\\mu$ and $\\sigma^2$. "
   ]
  },
  {
   "cell_type": "markdown",
   "metadata": {},
   "source": [
    "##### Example\n",
    "\n",
    "Let $X$ follow the normal distribution with mean 3 and standard deviation 10. \n",
    "\n",
    "1) Find $P(X<0)$. \n",
    "\n",
    "2) Find the 90th percentile of $X$. \n",
    "\n",
    "3) Given $X$ is greater than the mean, find the probability that $X$ is less than the mean plus two standard deviations. "
   ]
  },
  {
   "cell_type": "code",
   "execution_count": 60,
   "metadata": {},
   "outputs": [
    {
     "data": {
      "text/plain": [
       "0.3820885778110474"
      ]
     },
     "execution_count": 60,
     "metadata": {},
     "output_type": "execute_result"
    }
   ],
   "source": [
    "#1\n",
    "stats.norm.cdf(0,3,10)"
   ]
  },
  {
   "cell_type": "code",
   "execution_count": 61,
   "metadata": {},
   "outputs": [
    {
     "data": {
      "text/plain": [
       "15.815515655446003"
      ]
     },
     "execution_count": 61,
     "metadata": {},
     "output_type": "execute_result"
    }
   ],
   "source": [
    "#2\n",
    "stats.norm.ppf(0.90,3,10)"
   ]
  },
  {
   "cell_type": "code",
   "execution_count": 62,
   "metadata": {},
   "outputs": [
    {
     "data": {
      "text/plain": [
       "0.4772498680518208"
      ]
     },
     "execution_count": 62,
     "metadata": {},
     "output_type": "execute_result"
    }
   ],
   "source": [
    "#3\n",
    "stats.norm.cdf(23,3,10)-stats.norm.cdf(3,3,10)"
   ]
  },
  {
   "cell_type": "markdown",
   "metadata": {},
   "source": [
    "#### Gamma"
   ]
  },
  {
   "cell_type": "markdown",
   "metadata": {},
   "source": [
    "The gamma distribution is a generalization of the exponential distribution. If $X$ has the gamma distribution with parameters $\\alpha$ and $\\lambda$. Note that in `scipy`, $\\alpha$ is the shape parameter, $a$, and $\\lambda$ is the inverse of the scale parameter (similar to the exponential distribution). \n",
    "\n",
    "For $x\\geq 0$, \n",
    "$$\n",
    "f(x;\\alpha,\\lambda)= \\frac{\\lambda^\\alpha}{\\Gamma(\\alpha)}x^{\\alpha-1}e^{-\\lambda x}\n",
    "$$\n",
    "\n",
    "The mean and variance are:\n",
    "$$\n",
    "E(X)=\\frac{\\alpha}{\\lambda}\n",
    "$$\n",
    "\n",
    "and\n",
    "$$\n",
    "V(X)=\\frac{\\alpha}{\\lambda^2}\n",
    "$$"
   ]
  },
  {
   "cell_type": "markdown",
   "metadata": {},
   "source": [
    "##### Example\n",
    "\n",
    "Let $X \\sim \\textsf{Gamma}(3,0.7)$. \n",
    "\n",
    "1) Find $P(X>E(X))$\n",
    "\n",
    "2) Find $P(X\\leq 1)$"
   ]
  },
  {
   "cell_type": "code",
   "execution_count": 59,
   "metadata": {},
   "outputs": [
    {
     "data": {
      "text/plain": [
       "0.4559446713286356"
      ]
     },
     "execution_count": 59,
     "metadata": {},
     "output_type": "execute_result"
    }
   ],
   "source": [
    "#1\n",
    "e=3/.7\n",
    "1-stats.gamma.cdf(e,3,1/0.7)"
   ]
  },
  {
   "cell_type": "code",
   "execution_count": 58,
   "metadata": {},
   "outputs": [
    {
     "data": {
      "text/plain": [
       "0.020386931211029923"
      ]
     },
     "execution_count": 58,
     "metadata": {},
     "output_type": "execute_result"
    }
   ],
   "source": [
    "#2\n",
    "stats.gamma.cdf(2,3,1/0.7)"
   ]
  },
  {
   "cell_type": "code",
   "execution_count": 6,
   "metadata": {},
   "outputs": [
    {
     "data": {
      "image/png": "[encoded data removed]",
      "text/plain": [
       "<matplotlib.figure.Figure at 0x266f443f400>"
      ]
     },
     "metadata": {},
     "output_type": "display_data"
    }
   ],
   "source": [
    "_,ax=plt.subplots(1,1)\n",
    "x=np.arange(0.001,20,0.001)\n",
    "ax.plot(x,stats.gamma.pdf(x,3,scale=1/0.7));"
   ]
  },
  {
   "cell_type": "markdown",
   "metadata": {},
   "source": [
    "Note that we can plot the exponential distribution with $\\lambda=0.7$ by setting $a=1$:"
   ]
  },
  {
   "cell_type": "code",
   "execution_count": 9,
   "metadata": {},
   "outputs": [
    {
     "data": {
      "image/png": "[encoded data removed]",
      "text/plain": [
       "<matplotlib.figure.Figure at 0x266f44fefd0>"
      ]
     },
     "metadata": {},
     "output_type": "display_data"
    }
   ],
   "source": [
    "_,ax=plt.subplots(1,1)\n",
    "x=np.arange(0.001,10,0.001)\n",
    "ax.plot(x,stats.gamma.pdf(x,1,scale=1/0.7));"
   ]
  },
  {
   "cell_type": "markdown",
   "metadata": {},
   "source": [
    "#### Beta\n",
    "\n",
    "The beta distribution is unique among continuous distributions in that it applies only to random variables restricted to the domain $[0,1]$. The continuous uniform distribution is a special case of the beta distribution. To learn more about the beta distribution, see the `scipy` documentation: https://docs.scipy.org/doc/scipy/reference/generated/scipy.stats.beta.html#scipy.stats.beta"
   ]
  },
  {
   "cell_type": "markdown",
   "metadata": {},
   "source": [
    "##### Example\n",
    "\n",
    "1) What are the parameters of the beta distribution that make the distribution equivalent to $\\textsf{Unif}(0,1)$? "
   ]
  }
 ],
 "metadata": {
  "kernelspec": {
   "display_name": "Python 3",
   "language": "python",
   "name": "python3"
  },
  "language_info": {
   "codemirror_mode": {
    "name": "ipython",
    "version": 3
   },
   "file_extension": ".py",
   "mimetype": "text/x-python",
   "name": "python",
   "nbconvert_exporter": "python",
   "pygments_lexer": "ipython3",
   "version": "3.6.5"
  }
 },
 "nbformat": 4,
 "nbformat_minor": 2
}
