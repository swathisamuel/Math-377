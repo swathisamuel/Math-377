{
 "cells": [
  {
   "cell_type": "code",
   "execution_count": 1,
   "metadata": {},
   "outputs": [],
   "source": [
    "from datascience import *\n",
    "import numpy as np\n",
    "from math import *\n",
    "from scipy import stats\n",
    "import matplotlib.pyplot as plt\n",
    "%matplotlib inline"
   ]
  },
  {
   "cell_type": "markdown",
   "metadata": {},
   "source": [
    "## Lesson 23: Hypothesis Testing, Continued"
   ]
  },
  {
   "cell_type": "markdown",
   "metadata": {},
   "source": [
    "Recall in Lesson 22, we covered hypothesis testing. The structure of a hypothesis test is largely similar regardless of the context of the problem. We state the hypotheses, decide on a test statistic, calculate the $p$-value and reach a conclusion. To calculate a $p$-value, we need to find the distribution of the test statistic under the null hypothesis. "
   ]
  },
  {
   "cell_type": "markdown",
   "metadata": {},
   "source": [
    "### Example 1: The Lady Tasting Tea\n",
    "\n",
    "The \"lady tasting tea\" problem is a now famous story during which, at a gathering one summer afternoon in Cambridge, some friends drank tea with milk. Among them, a woman claimed to be able to tell, based on taste, whether the milk or the tea was added first to the cup. A now famous statistician, Ronald Fisher, was at the gathering, and he studied the claim. The woman was offered 8 cups of tea mixed with milk (4 with milk added first and 4 with tea added first) and she successfully identified 6 (3 of each). What can we say about her ability to discriminate the teas? "
   ]
  },
  {
   "cell_type": "markdown",
   "metadata": {},
   "source": [
    "Step 1: State Hypotheses\n",
    "\n",
    "Null: the probability that she picks correctly, is just as likely as her to pick wrongly. She cannot distinguish between whether tea or milk were added first with any consistency beyond randomness.\n",
    "\n",
    "Alternate: The probability that she picks correctly is different than the prob she picks incorrectly.She can distinguish between the two.\n"
   ]
  },
  {
   "cell_type": "markdown",
   "metadata": {},
   "source": [
    "Step 2: Test Statistic\n",
    "\n",
    "x= The number of times she correctly picked tea first\n",
    "\n",
    "Hypergeometric dist: binomial distribution without replacement\n",
    "\n",
    "Xobs=3\n",
    "\n",
    "X~Hypergeom('trials'  M=8, 'successes' n=4, 'number being picked at random' N=4)"
   ]
  },
  {
   "cell_type": "code",
   "execution_count": 2,
   "metadata": {},
   "outputs": [
    {
     "data": {
      "text/plain": [
       "array([1, 2, 3, 3, 2, 3, 2, 2, 2, 2])"
      ]
     },
     "execution_count": 2,
     "metadata": {},
     "output_type": "execute_result"
    }
   ],
   "source": [
    "M,n,N=8,4,4\n",
    "stats.hypergeom.rvs(M,n,N,size=10)"
   ]
  },
  {
   "cell_type": "markdown",
   "metadata": {},
   "source": [
    "Step 3: Find p-value\n"
   ]
  },
  {
   "cell_type": "code",
   "execution_count": 3,
   "metadata": {},
   "outputs": [
    {
     "name": "stdout",
     "output_type": "stream",
     "text": [
      "the p-value is  0.24285714285714263\n",
      "the p-value is  0.24285714285714288\n"
     ]
    }
   ],
   "source": [
    "#using pmf\n",
    "M,n,N=8,4,4\n",
    "print(\"the p-value is \",stats.hypergeom.pmf([3,4],M,n,N).sum())\n",
    "\n",
    "# using cdf\n",
    "print(\"the p-value is \",1-stats.hypergeom.cdf(2,M,n,N).sum())"
   ]
  },
  {
   "cell_type": "markdown",
   "metadata": {},
   "source": [
    "Step 4: Conclude\n",
    "\n",
    "We fail to reject the null "
   ]
  },
  {
   "cell_type": "markdown",
   "metadata": {},
   "source": [
    "### Example 2: iris dataset\n",
    "\n",
    "The `iris` dataset is common in introductory statistics. It shows various characteristics of three different species of irises. Let's determine whether the virginica species has a larger mean sepal width than that of versicolor. "
   ]
  },
  {
   "cell_type": "code",
   "execution_count": 4,
   "metadata": {},
   "outputs": [
    {
     "data": {
      "text/html": [
       "<table border=\"1\" class=\"dataframe\">\n",
       "    <thead>\n",
       "        <tr>\n",
       "            <th>species</th> <th>sepal_length mean</th> <th>sepal_width mean</th> <th>petal_length mean</th> <th>petal_width mean</th>\n",
       "        </tr>\n",
       "    </thead>\n",
       "    <tbody>\n",
       "        <tr>\n",
       "            <td>setosa    </td> <td>5.006            </td> <td>3.418           </td> <td>1.464            </td> <td>0.244           </td>\n",
       "        </tr>\n",
       "        <tr>\n",
       "            <td>versicolor</td> <td>5.936            </td> <td>2.77            </td> <td>4.26             </td> <td>1.326           </td>\n",
       "        </tr>\n",
       "        <tr>\n",
       "            <td>virginica </td> <td>6.588            </td> <td>2.974           </td> <td>5.552            </td> <td>2.026           </td>\n",
       "        </tr>\n",
       "    </tbody>\n",
       "</table>"
      ],
      "text/plain": [
       "species    | sepal_length mean | sepal_width mean | petal_length mean | petal_width mean\n",
       "setosa     | 5.006             | 3.418            | 1.464             | 0.244\n",
       "versicolor | 5.936             | 2.77             | 4.26              | 1.326\n",
       "virginica  | 6.588             | 2.974            | 5.552             | 2.026"
      ]
     },
     "execution_count": 4,
     "metadata": {},
     "output_type": "execute_result"
    }
   ],
   "source": [
    "iris=Table().read_table(\"iris.csv\")\n",
    "iris.group(4,np.mean)"
   ]
  },
  {
   "cell_type": "markdown",
   "metadata": {},
   "source": [
    "Step 1: State hypotheses\n",
    "\n",
    "Null: The mean sepal width of the virginica is no different than that of versicolor. Any variation is due to random chance\n",
    "\n",
    "Alternate: The mean sepal width of the virginica is greater than that of the versicolor"
   ]
  },
  {
   "cell_type": "markdown",
   "metadata": {},
   "source": [
    "Step 2: Test Statistic\n",
    "\n",
    "Difference in sample means\n",
    "\n",
    "observed difference= 0.204\n",
    "\n",
    "if null is true,we should get a value near 0\n",
    "\n",
    "Using simulation/ permutation test\n",
    "\n"
   ]
  },
  {
   "cell_type": "markdown",
   "metadata": {},
   "source": [
    "Step 3: Test Statistic"
   ]
  },
  {
   "cell_type": "code",
   "execution_count": 6,
   "metadata": {},
   "outputs": [
    {
     "data": {
      "text/plain": [
       "0.20399999999999974"
      ]
     },
     "execution_count": 6,
     "metadata": {},
     "output_type": "execute_result"
    }
   ],
   "source": [
    "iris_sub=iris.select(4,1).where(0,are.not_containing('setosa'))\n",
    "obs=np.diff(iris_sub.group(0,np.mean).column(1))[0]\n",
    "obs"
   ]
  },
  {
   "cell_type": "code",
   "execution_count": 7,
   "metadata": {},
   "outputs": [],
   "source": [
    "num_obs=iris_sub.num_rows\n",
    "ts=[]\n",
    "for _ in np.arange(10000):\n",
    "    iris_sample=iris_sub.with_column(\"sampled\",iris_sub.sample(num_obs,with_replacement= False).column(1))\n",
    "    ts=np.append(ts,np.diff(iris_sample.group(0,np.mean).column(2))[0])"
   ]
  },
  {
   "cell_type": "markdown",
   "metadata": {},
   "source": [
    "Step 4: Conclude"
   ]
  },
  {
   "cell_type": "code",
   "execution_count": 8,
   "metadata": {},
   "outputs": [
    {
     "data": {
      "image/png": "[encoded data removed]",
      "text/plain": [
       "<Figure size 432x288 with 1 Axes>"
      ]
     },
     "metadata": {},
     "output_type": "display_data"
    }
   ],
   "source": [
    "plt.hist(ts)\n",
    "plt.scatter(obs,0)\n",
    "plt.show()"
   ]
  },
  {
   "cell_type": "code",
   "execution_count": 9,
   "metadata": {},
   "outputs": [
    {
     "data": {
      "text/plain": [
       "0.0009"
      ]
     },
     "execution_count": 9,
     "metadata": {},
     "output_type": "execute_result"
    }
   ],
   "source": [
    "np.mean(ts>=obs)"
   ]
  },
  {
   "cell_type": "markdown",
   "metadata": {},
   "source": [
    "We can reject the null because our p-value is extremely low\n"
   ]
  }
 ],
 "metadata": {
  "kernelspec": {
   "display_name": "Python 3",
   "language": "python",
   "name": "python3"
  },
  "language_info": {
   "codemirror_mode": {
    "name": "ipython",
    "version": 3
   },
   "file_extension": ".py",
   "mimetype": "text/x-python",
   "name": "python",
   "nbconvert_exporter": "python",
   "pygments_lexer": "ipython3",
   "version": "3.6.5"
  }
 },
 "nbformat": 4,
 "nbformat_minor": 2
}
