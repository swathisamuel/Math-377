{
 "cells": [
  {
   "cell_type": "code",
   "execution_count": 2,
   "metadata": {},
   "outputs": [],
   "source": [
    "from scipy import stats"
   ]
  },
  {
   "cell_type": "markdown",
   "metadata": {},
   "source": [
    "## Probability Distribution Practice (Solution)\n",
    "\n",
    "### Lt Col Horton\n",
    "\n",
    "In this notebook, I will provide some practice problems that will help reinforce your understanding of probability distributions. Throughout this practice, I highly encourage you to refer to the `scipy` documentation online. While you are there, feel free to explore areas we don't cover in this notebook (particularly plotting and randomization). \n",
    "\n",
    "For each of the tasks below **_1)_** define a random variable that will help you answer the question; **_2)_** state the distribution and parameters of that random variable; **_3)_** determine the expected value and variance of that random variable. \n",
    "\n",
    "I will demonstrate using **_1.1_** below. "
   ]
  },
  {
   "cell_type": "markdown",
   "metadata": {},
   "source": [
    "#### Problem 1"
   ]
  },
  {
   "cell_type": "markdown",
   "metadata": {},
   "source": [
    "The T-6 training aircraft is used during UPT. Suppose that on each training sortie, aircraft return with a maintenance-related failure at a rate of 1 per 100 sorties. \n",
    "\n",
    "**_1.1_** Find the probability of no maintenance failures in 15 sorties. \n",
    "\n",
    "**_1.2_** Find the probability of at least two maintenance failures in 15 sorties. \n",
    "\n",
    "**_1.3_** Find the probability of at least 30 successful (no mx failures) sorties before the first failure.\n",
    "\n",
    "**_1.4_** Find the probability of at least 50 successful sorties before the third failure. \n",
    "\n"
   ]
  },
  {
   "cell_type": "markdown",
   "metadata": {},
   "source": [
    "##### Demonstration using 1.1\n",
    "\n",
    "Find the probability of no maintenance failures in 15 sorties.\n",
    "\n",
    "$X$: the number of maintenance failures in 15 sorties. \n",
    "\n",
    "$X\\sim \\textsf{Bin}(n=15, p=0.01)$\n",
    "\n",
    "$E(X) = np = 15*0.01 = 0.15$\n",
    "\n",
    "$V(X) = np(1-p) = 15*0.01*0.99 = 0.1485$"
   ]
  },
  {
   "cell_type": "markdown",
   "metadata": {},
   "source": [
    "Probability of no maintenance failures, $P(X=0)$:  "
   ]
  },
  {
   "cell_type": "code",
   "execution_count": 5,
   "metadata": {},
   "outputs": [
    {
     "data": {
      "text/plain": [
       "0.8600583546412884"
      ]
     },
     "execution_count": 5,
     "metadata": {},
     "output_type": "execute_result"
    }
   ],
   "source": [
    "stats.binom.pmf(0,15,0.01)"
   ]
  },
  {
   "cell_type": "markdown",
   "metadata": {},
   "source": [
    "The probability of getting no maintenance failures in 15 sorties is about 0.86. It is worth taking a moment to make sure this value makes sense. Since failures are fairly unlikely, and the **expected** number of failures (0.15) is close to 0, then 0 failures should be a fairly likely outcome and a probability of 0.86 makes sense. "
   ]
  },
  {
   "cell_type": "markdown",
   "metadata": {},
   "source": [
    "##### 1.2\n",
    "\n",
    "Find the probability of at least two maintenance failures in 15 sorties.\n",
    "\n",
    "$X$: the number of maintenance failures in 15 sorties. \n",
    "\n",
    "$X\\sim \\textsf{Bin}(n=15, p=0.01)$\n",
    "\n",
    "$E(X) = np = 15*0.01 = 0.15$\n",
    "\n",
    "$V(X) = np(1-p) = 15*0.01*0.99 = 0.1485$"
   ]
  },
  {
   "cell_type": "markdown",
   "metadata": {},
   "source": [
    "Probability of at least two maintenance failures, $P(X\\geq 2)$:  "
   ]
  },
  {
   "cell_type": "code",
   "execution_count": 6,
   "metadata": {},
   "outputs": [
    {
     "data": {
      "text/plain": [
       "0.009629773443364797"
      ]
     },
     "execution_count": 6,
     "metadata": {},
     "output_type": "execute_result"
    }
   ],
   "source": [
    "1-stats.binom.cdf(1,15,0.01)"
   ]
  },
  {
   "cell_type": "markdown",
   "metadata": {},
   "source": [
    "##### 1.3\n",
    "\n",
    "Find the probability of at least 30 successful (no mx failures) sorties before the first failure.\n",
    "\n",
    "###### Using binomial:\n",
    "\n",
    "$X$: the number of maintenance failures in 30 sorties. \n",
    "\n",
    "$X\\sim \\textsf{Bin}(n=30, p=0.01)$\n",
    "\n",
    "$E(X) = np = 30*0.01 = 0.3$\n",
    "\n",
    "$V(X) = np(1-p) = 30*0.01*0.99 = 0.297$\n",
    "\n",
    "###### Using negative binomial:\n",
    "\n",
    "$Y$: the number of successful sorties before the first failure.\n",
    "\n",
    "$Y\\sim \\textsf{NegBin}(r=1, p=0.01)$\n",
    "\n",
    "$E(Y) = \\frac{r}{p}-r = 1/0.01 - 1 = 99$\n",
    "\n",
    "$V(Y) = \\frac{r(1-p)}{p^2}= \\frac{1(1-0.01)}{0.01^2} = 9900$"
   ]
  },
  {
   "cell_type": "markdown",
   "metadata": {},
   "source": [
    "Probability of no failures in 30 sorties, $P(X= 0)$ or $P(Y\\geq 30)$:"
   ]
  },
  {
   "cell_type": "code",
   "execution_count": 11,
   "metadata": {},
   "outputs": [
    {
     "name": "stdout",
     "output_type": "stream",
     "text": [
      "0.7397003733882804\n",
      "0.7397003733882803\n"
     ]
    }
   ],
   "source": [
    "#binomial\n",
    "print(stats.binom.pmf(0,30,0.01))\n",
    "#negative binomial\n",
    "print(1-stats.nbinom.cdf(29,1,0.01))"
   ]
  },
  {
   "cell_type": "markdown",
   "metadata": {},
   "source": [
    "##### 1.4\n",
    "\n",
    "Find the probability of at least 50 successful sorties before the third failure.\n",
    "\n",
    "$Y$: the number of successful sorties before the third failure. \n",
    "\n",
    "$Y\\sim \\textsf{NegBin}(r=3, p=0.01)$\n",
    "\n",
    "$E(Y) = \\frac{3}{0.01}-3 = 297$\n",
    "\n",
    "$V(Y) = \\frac{3(1-0.01)}{0.01^2} = 29700$"
   ]
  },
  {
   "cell_type": "markdown",
   "metadata": {},
   "source": [
    "Probability of at least 50 successful sorties before third failure, $P(Y\\geq 50)$:  "
   ]
  },
  {
   "cell_type": "code",
   "execution_count": 14,
   "metadata": {},
   "outputs": [
    {
     "data": {
      "text/plain": [
       "0.9846473742663409"
      ]
     },
     "execution_count": 14,
     "metadata": {},
     "output_type": "execute_result"
    }
   ],
   "source": [
    "1-stats.nbinom.cdf(49,3,0.01)"
   ]
  },
  {
   "cell_type": "markdown",
   "metadata": {},
   "source": [
    "#### Problem 2"
   ]
  },
  {
   "cell_type": "markdown",
   "metadata": {},
   "source": [
    "On a given Saturday, suppose vehicles arrive at the USAFA North Gate according to a Poisson process at a rate of 40 arrivals per hour. \n",
    "\n",
    "**_2.1_** Find the probability no vehicles arrive in 10 minutes. \n",
    "\n",
    "**_2.2_** Find the probability at least 50 vehicles arrive in an hour. \n",
    "\n",
    "**_2.3_** Find the probability that at least 5 minutes will pass before the next arrival.\n",
    "\n",
    "**_2.4_** Find the probability that the next vehicle will arrive between 2 and 10 minutes from now. \n",
    "\n",
    "**_2.5_** Find the probability that at least 7 minutes will pass before the next arrival, given that 2 minute have already passed. Compare this answer to **_2.3_**. This is an example of the *memoryless* property of the exponential distribution.\n",
    "\n",
    "**_2.6_** Fill in the blank. There is a probability of 90% that the next vehicle will arrive within __ minutes. This value is known as the 90% percentile of the random variable. \n"
   ]
  },
  {
   "cell_type": "markdown",
   "metadata": {},
   "source": [
    "##### 2.1\n",
    "\n",
    "Find the probability no vehicles arrive in 10 minutes.\n",
    "\n",
    "$X$: the number of arrivals in 10 minutes. \n",
    "\n",
    "$X\\sim \\textsf{Pois}(\\lambda = 40/6 = 6.67)$\n",
    "\n",
    "$E(X) = \\lambda = 6.67$\n",
    "\n",
    "$V(X) = \\lambda = 6.67$"
   ]
  },
  {
   "cell_type": "markdown",
   "metadata": {},
   "source": [
    "Probability of no arrivals in 10 minutes, $P(X=0)$:  "
   ]
  },
  {
   "cell_type": "code",
   "execution_count": 16,
   "metadata": {},
   "outputs": [
    {
     "data": {
      "text/plain": [
       "0.0012726338013398079"
      ]
     },
     "execution_count": 16,
     "metadata": {},
     "output_type": "execute_result"
    }
   ],
   "source": [
    "stats.poisson.pmf(0,40/6)"
   ]
  },
  {
   "cell_type": "markdown",
   "metadata": {},
   "source": [
    "##### 2.2\n",
    "\n",
    "Find the probability at least 50 vehicles arrive in an hour. \n",
    "\n",
    "$X$: the number of arrivals in an hour. \n",
    "\n",
    "$X\\sim \\textsf{Pois}(\\lambda = 40)$\n",
    "\n",
    "$E(X) = \\lambda = 40$\n",
    "\n",
    "$V(X) = \\lambda = 40$"
   ]
  },
  {
   "cell_type": "markdown",
   "metadata": {},
   "source": [
    "Probability of at least 50 arrivals in an hour, $P(X\\geq 50)$:  "
   ]
  },
  {
   "cell_type": "code",
   "execution_count": 17,
   "metadata": {},
   "outputs": [
    {
     "data": {
      "text/plain": [
       "0.07033506665939493"
      ]
     },
     "execution_count": 17,
     "metadata": {},
     "output_type": "execute_result"
    }
   ],
   "source": [
    "1-stats.poisson.cdf(49,40)"
   ]
  },
  {
   "cell_type": "markdown",
   "metadata": {},
   "source": [
    "##### 2.3\n",
    "\n",
    "Find the probability that at least 5 minutes will pass before the next arrival.\n",
    "\n",
    "###### Using Poisson\n",
    "\n",
    "$X$: the number of arrivals in 5 minutes. \n",
    "\n",
    "$X\\sim \\textsf{Pois}(\\lambda = 40/12 = 3.33)$\n",
    "\n",
    "$E(X) = \\lambda = 3.33$\n",
    "\n",
    "$V(X) = \\lambda = 3.33$\n",
    "\n",
    "###### Using Exponential\n",
    "\n",
    "$Y$: the time until the next arrival (in minutes)\n",
    "\n",
    "$Y\\sim \\textsf{Exp}(\\lambda= 40/60 = 0.667)$\n",
    "\n",
    "$E(Y) = \\frac{1}{\\lambda} = 1.5$\n",
    "\n",
    "$V(Y) = \\frac{1}{\\lambda^2} = 2.25$"
   ]
  },
  {
   "cell_type": "markdown",
   "metadata": {},
   "source": [
    "Probability of at least 5 minutes until next arrival, $P(X=0)$ or $P(Y\\geq 5)$:  "
   ]
  },
  {
   "cell_type": "code",
   "execution_count": 25,
   "metadata": {},
   "outputs": [
    {
     "name": "stdout",
     "output_type": "stream",
     "text": [
      "0.035673993347252395\n",
      "0.03567399334725241\n"
     ]
    }
   ],
   "source": [
    "print(stats.poisson.pmf(0,40/12))\n",
    "lambda_exp=2/3\n",
    "print(1-stats.expon.cdf(5,scale=1/lambda_exp))"
   ]
  },
  {
   "cell_type": "markdown",
   "metadata": {},
   "source": [
    "##### 2.4\n",
    "\n",
    "Find the probability that the next vehicle will arrive between 2 and 10 minutes from now. \n",
    "\n",
    "$Y$: the time until the next arrival (in minutes)\n",
    "\n",
    "$Y\\sim \\textsf{Exp}(\\lambda= 40/60 = 0.667)$\n",
    "\n",
    "$E(Y) = \\frac{1}{\\lambda} = 1.5$\n",
    "\n",
    "$V(Y) = \\frac{1}{\\lambda^2} = 2.25$"
   ]
  },
  {
   "cell_type": "markdown",
   "metadata": {},
   "source": [
    "Probability next arrival will be between 2 and 10 minutes from now, $P(2\\leq Y \\leq 10)$:  "
   ]
  },
  {
   "cell_type": "code",
   "execution_count": 26,
   "metadata": {},
   "outputs": [
    {
     "name": "stdout",
     "output_type": "stream",
     "text": [
      "0.2623245043143869\n"
     ]
    }
   ],
   "source": [
    "lambda_exp=2/3\n",
    "print(stats.expon.cdf(10,scale=1/lambda_exp)-stats.expon.cdf(2,scale=1/lambda_exp))"
   ]
  },
  {
   "cell_type": "markdown",
   "metadata": {},
   "source": [
    "##### 2.5\n",
    "\n",
    "Find the probability that at least 7 minutes will pass before the next arrival, given 2 minutes have already passed.\n",
    "\n",
    "$Y$: the time until the next arrival (in minutes)\n",
    "\n",
    "$Y\\sim \\textsf{Exp}(\\lambda= 40/60 = 0.667)$\n",
    "\n",
    "$E(Y) = \\frac{1}{\\lambda} = 1.5$\n",
    "\n",
    "$V(Y) = \\frac{1}{\\lambda^2} = 2.25$"
   ]
  },
  {
   "cell_type": "markdown",
   "metadata": {},
   "source": [
    "Probability of at least 7 minutes until next arrival, given 2 minutes have passed, $P(Y\\geq 7|Y\\geq 2) = \\frac{P(Y\\geq 7, Y\\geq 2)}{P(Y\\geq 2)} = \\frac{P(Y\\geq 7)}{P(Y\\geq 2)}$:  "
   ]
  },
  {
   "cell_type": "code",
   "execution_count": 45,
   "metadata": {},
   "outputs": [
    {
     "name": "stdout",
     "output_type": "stream",
     "text": [
      "0.03567399334725243\n"
     ]
    }
   ],
   "source": [
    "lambda_exp=2/3\n",
    "print((1-stats.expon.cdf(7,scale=1/lambda_exp))/(1-stats.expon.cdf(2,scale=1/lambda_exp)))"
   ]
  },
  {
   "cell_type": "markdown",
   "metadata": {},
   "source": [
    "##### 2.6\n",
    "\n",
    "Fill in the blank. There is a probability of 90% that the next vehicle will arrive within __ minutes.\n",
    "\n",
    "$Y$: the time until the next arrival (in minutes)\n",
    "\n",
    "$Y\\sim \\textsf{Exp}(\\lambda= 40/60 = 0.667)$\n",
    "\n",
    "$E(Y) = \\frac{1}{\\lambda} = 1.5$\n",
    "\n",
    "$V(Y) = \\frac{1}{\\lambda^2} = 2.25$"
   ]
  },
  {
   "cell_type": "markdown",
   "metadata": {},
   "source": [
    "Need to find $y$ such that, $P(Y \\leq y) = 0.9$:  "
   ]
  },
  {
   "cell_type": "code",
   "execution_count": 33,
   "metadata": {},
   "outputs": [
    {
     "name": "stdout",
     "output_type": "stream",
     "text": [
      "3.453877639491069\n"
     ]
    }
   ],
   "source": [
    "lambda_exp=2/3\n",
    "print(stats.expon.ppf(0.9,scale=1/lambda_exp))"
   ]
  },
  {
   "cell_type": "markdown",
   "metadata": {},
   "source": [
    "#### Problem 3"
   ]
  },
  {
   "cell_type": "markdown",
   "metadata": {},
   "source": [
    "Suppose there are 12 male and 7 female cadets in a classroom. I select 5 completely at random (without replacement). \n",
    "\n",
    "**_3.1_** Find the probability I select no female cadets. \n",
    "\n",
    "**_3.2_** Find the probability I select more than 2 female cadets. "
   ]
  },
  {
   "cell_type": "markdown",
   "metadata": {},
   "source": [
    "##### 3.1\n",
    "\n",
    "Find the probability I select no female cadets. \n",
    "\n",
    "$X$: the number of female cadets selected in my sample of 5. \n",
    "\n",
    "$X\\sim \\textsf{Hypergeometric}(M=19, n=7, N=5)$\n",
    "\n",
    "$E(X) = \\frac{nN}{M} = 1.842$\n",
    "\n",
    "$V(X) = \\frac{nN(M-n)(M-N)}{M^2(M-1)} = 0.905$"
   ]
  },
  {
   "cell_type": "markdown",
   "metadata": {},
   "source": [
    "Probability of no female cadets, $P(X=0)$:  "
   ]
  },
  {
   "cell_type": "code",
   "execution_count": 29,
   "metadata": {},
   "outputs": [
    {
     "data": {
      "text/plain": [
       "0.06811145510835913"
      ]
     },
     "execution_count": 29,
     "metadata": {},
     "output_type": "execute_result"
    }
   ],
   "source": [
    "stats.hypergeom.pmf(0,19,7,5)"
   ]
  },
  {
   "cell_type": "markdown",
   "metadata": {},
   "source": [
    "##### 3.2\n",
    "\n",
    "Find the probability I select more than 2 female cadets. \n",
    "\n",
    "$X$: the number of female cadets selected in my sample of 5. \n",
    "\n",
    "$X\\sim \\textsf{Hypergeometric}(M=19, n=7, N=5)$\n",
    "\n",
    "$E(X) = \\frac{nN}{M} = 1.842$\n",
    "\n",
    "$V(X) = \\frac{nN(M-n)(M-N)}{M^2(M-1)} = 0.905$"
   ]
  },
  {
   "cell_type": "markdown",
   "metadata": {},
   "source": [
    "Probability of more than 2 female cadets, $P(X> 2)$:  "
   ]
  },
  {
   "cell_type": "code",
   "execution_count": 32,
   "metadata": {},
   "outputs": [
    {
     "data": {
      "text/plain": [
       "0.6026831785345721"
      ]
     },
     "execution_count": 32,
     "metadata": {},
     "output_type": "execute_result"
    }
   ],
   "source": [
    "1-stats.hypergeom.pmf(2,19,7,5)"
   ]
  },
  {
   "cell_type": "markdown",
   "metadata": {},
   "source": [
    "#### Problem 4"
   ]
  },
  {
   "cell_type": "markdown",
   "metadata": {},
   "source": [
    "Suppose PFT scores in the cadet wing follow a normal distribution with mean 330 and standard deviation 50. \n",
    "\n",
    "**_4.1_** Find the probability a randomly selected cadet has a PFT score higher than 450. \n",
    "\n",
    "**_4.2_** Find the probability a randomly selected cadet has a PFT score within 2 standard deviations of the mean.\n",
    "\n",
    "**_4.3_** Find $a$ and $b$ such that 90% of PFT scores will be between $a$ and $b$. \n",
    "\n",
    "**_4.4_** Find the probability a randomly selected cadet has a PFT score higher than 450 given he/she is among the top 10% of cadets. "
   ]
  },
  {
   "cell_type": "markdown",
   "metadata": {},
   "source": [
    "##### 4.1\n",
    "\n",
    "Find the probability a randomly selected cadet has a PFT score higher than 450. \n",
    "\n",
    "$X$: PFT score of a randomly selected cadet. \n",
    "\n",
    "$X\\sim \\textsf{Norm}(\\mu = 330, \\sigma = 50)$\n",
    "\n",
    "$E(X) = \\mu = 330$\n",
    "\n",
    "$V(X) = \\sigma^2 = 2500$"
   ]
  },
  {
   "cell_type": "markdown",
   "metadata": {},
   "source": [
    "Probability of PFT score higher than 450, $P(X>0)$:  "
   ]
  },
  {
   "cell_type": "code",
   "execution_count": 41,
   "metadata": {},
   "outputs": [
    {
     "data": {
      "text/plain": [
       "0.008197535924596155"
      ]
     },
     "execution_count": 41,
     "metadata": {},
     "output_type": "execute_result"
    }
   ],
   "source": [
    "1-stats.norm.cdf(450,330,50)"
   ]
  },
  {
   "cell_type": "markdown",
   "metadata": {},
   "source": [
    "##### 4.2\n",
    "\n",
    "Find the probability a randomly selected cadet has a PFT score within 2 standard deviations of the mean.\n",
    "\n",
    "$X$: PFT score of a randomly selected cadet. \n",
    "\n",
    "$X\\sim \\textsf{Norm}(\\mu = 330, \\sigma = 50)$\n",
    "\n",
    "$E(X) = \\mu = 330$\n",
    "\n",
    "$V(X) = \\sigma^2 = 2500$"
   ]
  },
  {
   "cell_type": "markdown",
   "metadata": {},
   "source": [
    "Probability of PFT score within 2 sds of mean, $P(230 \\leq X \\leq 430)$:  "
   ]
  },
  {
   "cell_type": "code",
   "execution_count": 38,
   "metadata": {},
   "outputs": [
    {
     "data": {
      "text/plain": [
       "0.9544997361036416"
      ]
     },
     "execution_count": 38,
     "metadata": {},
     "output_type": "execute_result"
    }
   ],
   "source": [
    "stats.norm.cdf(430,330,50)-stats.norm.cdf(230,330,50)"
   ]
  },
  {
   "cell_type": "markdown",
   "metadata": {},
   "source": [
    "##### 4.3\n",
    "\n",
    "Find $a$ and $b$ such that 90% of PFT scores will be between $a$ and $b$. \n",
    "\n",
    "$X$: PFT score of a randomly selected cadet. \n",
    "\n",
    "$X\\sim \\textsf{Norm}(\\mu = 330, \\sigma = 50)$\n",
    "\n",
    "$E(X) = \\mu = 330$\n",
    "\n",
    "$V(X) = \\sigma^2 = 2500$"
   ]
  },
  {
   "cell_type": "markdown",
   "metadata": {},
   "source": [
    "90% interval of $X$:"
   ]
  },
  {
   "cell_type": "code",
   "execution_count": 51,
   "metadata": {},
   "outputs": [
    {
     "name": "stdout",
     "output_type": "stream",
     "text": [
      "247.75731865242636\n",
      "412.2426813475736\n"
     ]
    }
   ],
   "source": [
    "print(stats.norm.ppf(0.05,330,50))\n",
    "print(stats.norm.ppf(0.95,330,50))"
   ]
  },
  {
   "cell_type": "markdown",
   "metadata": {},
   "source": [
    "##### 4.4\n",
    "\n",
    "Find the probability a randomly selected cadet has a PFT score higher than 450 given he/she is among the top 10% of cadets.  \n",
    "\n",
    "$X$: PFT score of a randomly selected cadet. \n",
    "\n",
    "$X\\sim \\textsf{Norm}(\\mu = 330, \\sigma = 50)$\n",
    "\n",
    "$E(X) = \\mu = 330$\n",
    "\n",
    "$V(X) = \\sigma^2 = 2500$"
   ]
  },
  {
   "cell_type": "markdown",
   "metadata": {},
   "source": [
    "Probability of PFT score higher than 475 given upper 10th percentile, $P(X > 450|X>x_{.9})$, where $P(X \\leq x_{.9})=0.9$ "
   ]
  },
  {
   "cell_type": "code",
   "execution_count": 42,
   "metadata": {},
   "outputs": [
    {
     "data": {
      "text/plain": [
       "0.08197535924596155"
      ]
     },
     "execution_count": 42,
     "metadata": {},
     "output_type": "execute_result"
    }
   ],
   "source": [
    "(1-stats.norm.cdf(450,330,50))/0.1"
   ]
  },
  {
   "cell_type": "markdown",
   "metadata": {},
   "source": [
    "#### Problem 5"
   ]
  },
  {
   "cell_type": "markdown",
   "metadata": {},
   "source": [
    "Suppose time until computer errors on the F-35 follows a Gamma distribution with mean 20 hours and variance 10.  \n",
    "\n",
    "**_5.1_** Find the probability that 50 hours pass without a computer error. \n",
    "\n",
    "**_5.2_** Find the probability that 75 hours pass without a computer error, given that 25 hours have already passed. Dose the memoryless property apply to the Gamma distribution? \n",
    "\n",
    "**_5.3_** Find $a$ and $b$: There is a 95% probability time until next computer error will be between $a$ and $b$.  "
   ]
  },
  {
   "cell_type": "markdown",
   "metadata": {},
   "source": [
    "##### 5.1\n",
    "\n",
    "Find the probability that 50 hours pass without a computer error. \n",
    "\n",
    "$X$: time until next computer error. \n",
    "\n",
    "$X\\sim \\textsf{Gamma}(\\alpha = 40, \\lambda = 2)$\n",
    "\n",
    "$E(X) = 20$\n",
    "\n",
    "$V(X) = 10$"
   ]
  },
  {
   "cell_type": "markdown",
   "metadata": {},
   "source": [
    "Probability that 50 hours pass without error, $P(X\\geq 50)$:  "
   ]
  },
  {
   "cell_type": "code",
   "execution_count": 49,
   "metadata": {},
   "outputs": [
    {
     "data": {
      "text/plain": [
       "0.07365494485857027"
      ]
     },
     "execution_count": 49,
     "metadata": {},
     "output_type": "execute_result"
    }
   ],
   "source": [
    "1-stats.gamma.cdf(50,40,1/2)"
   ]
  },
  {
   "cell_type": "markdown",
   "metadata": {},
   "source": [
    "##### 5.2\n",
    "\n",
    "Find the probability that 75 hours pass without a computer error, given that 25 hours have already passed. Dose the memoryless property apply to the Gamma distribution?\n",
    "\n",
    "$X$: time until next computer error. \n",
    "\n",
    "$X\\sim \\textsf{Gamma}(\\alpha = 40, \\lambda = 2)$\n",
    "\n",
    "$E(X) = 20$\n",
    "\n",
    "$V(X) = 10$"
   ]
  },
  {
   "cell_type": "markdown",
   "metadata": {},
   "source": [
    "Probability that 75 hours pass without error, given 25 have already passed $P(X\\geq 75|X\\geq 25) = \\frac{P(X\\geq 75, X\\geq 25)}{P(X\\geq 25)} = \\frac{P(X\\geq 75)}{P(X\\geq 25)}$:  "
   ]
  },
  {
   "cell_type": "code",
   "execution_count": 48,
   "metadata": {},
   "outputs": [
    {
     "data": {
      "text/plain": [
       "4.577191724634049e-06"
      ]
     },
     "execution_count": 48,
     "metadata": {},
     "output_type": "execute_result"
    }
   ],
   "source": [
    "(1-stats.gamma.cdf(75,40,1/2))/(1-stats.gamma.cdf(25,40,1/2))"
   ]
  },
  {
   "cell_type": "markdown",
   "metadata": {},
   "source": [
    "Memoryless property does not apply to Gamma."
   ]
  },
  {
   "cell_type": "markdown",
   "metadata": {},
   "source": [
    "##### 5.3\n",
    "\n",
    "Find $a$ and $b$: There is a 95% probability time until next computer error will be between $a$ and $b$.  \n",
    "\n",
    "$X$: time until next computer error. \n",
    "\n",
    "$X\\sim \\textsf{Gamma}(\\alpha = 40, \\lambda = 2)$\n",
    "\n",
    "$E(X) = 20$\n",
    "\n",
    "$V(X) = 10$"
   ]
  },
  {
   "cell_type": "markdown",
   "metadata": {},
   "source": [
    "95% interval of $X$:  "
   ]
  },
  {
   "cell_type": "code",
   "execution_count": 50,
   "metadata": {},
   "outputs": [
    {
     "name": "stdout",
     "output_type": "stream",
     "text": [
      "29.07658644178896\n",
      "53.81428386583285\n"
     ]
    }
   ],
   "source": [
    "print(stats.gamma.ppf(0.025,40,1/2))\n",
    "print(stats.gamma.ppf(0.975,40,1/2))"
   ]
  }
 ],
 "metadata": {
  "kernelspec": {
   "display_name": "Python 3",
   "language": "python",
   "name": "python3"
  },
  "language_info": {
   "codemirror_mode": {
    "name": "ipython",
    "version": 3
   },
   "file_extension": ".py",
   "mimetype": "text/x-python",
   "name": "python",
   "nbconvert_exporter": "python",
   "pygments_lexer": "ipython3",
   "version": "3.6.5"
  }
 },
 "nbformat": 4,
 "nbformat_minor": 2
}
