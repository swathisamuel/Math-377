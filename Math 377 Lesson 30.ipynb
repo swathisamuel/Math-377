{
 "cells": [
  {
   "cell_type": "code",
   "execution_count": 1,
   "metadata": {},
   "outputs": [],
   "source": [
    "from datascience import *\n",
    "import numpy as np\n",
    "from math import *\n",
    "from scipy import stats\n",
    "import matplotlib.pyplot as plt\n",
    "%matplotlib inline"
   ]
  },
  {
   "cell_type": "markdown",
   "metadata": {},
   "source": [
    "## Lesson 30: Properties of Estimators"
   ]
  },
  {
   "cell_type": "markdown",
   "metadata": {},
   "source": [
    "Now that we have seen two different ways to obtain parameter estimates, we will now look into ways to evaluate estimators. What makes an estimator a good estimator? We have briefly discussed bias, but we'll also discuss consistency. "
   ]
  },
  {
   "cell_type": "markdown",
   "metadata": {},
   "source": [
    "### Bias\n",
    "\n",
    "(Review from Lesson 28). If we use an iid random sample to obtain an estimate of some parameter $\\theta$, this estimate ($\\hat{\\theta}$) is a random variable. Each time I collect a new sample, I will get a different $\\hat{\\theta}$. Ideally, the distribution of this $\\hat{\\theta}$ should have an average (expected value) of $\\theta$. \n",
    "\n",
    "If $E(\\hat{\\theta})=\\theta$, then $\\hat{\\theta}$ is said to be unbiased. "
   ]
  },
  {
   "cell_type": "markdown",
   "metadata": {},
   "source": [
    "### Example 1: Uniform Distribution\n",
    "\n",
    "Suppose $X_1,X_2,...,X_n$ is an iid sequence of random variables from the continuous uniform distribution on the domain $0 \\leq X \\leq b$ with unknown parameter $b$. From lessons 28, we found that the method of moments estimate of $b$ is $2\\bar{X}$. \n",
    "\n",
    "Is this estimate biased? Particularly, find $E(2\\bar{X})$. \n"
   ]
  },
  {
   "cell_type": "markdown",
   "metadata": {},
   "source": [
    "if $E(\\hat{b}) = b$ then $\\hat{b}$\n",
    "\n",
    "$E({X})$= $b\\over 2$\n",
    "\n",
    "$E($ $2 *( x1+x2+x3...xi) \\over n$ $)$= \n",
    "\n",
    "=$2 \\over n$ $E($ $(x1+x2+x3...xi)$ $)$\n",
    "\n",
    "=$2 \\over n$ $*n$ $E($ $xi$ $)$\n",
    "\n",
    "=$2$ $E($ $xi$ $)$\n",
    "\n",
    "=$2* b\\over 2$\n",
    "\n",
    "= b\n",
    "\n",
    "Therefore, unbiased\n"
   ]
  },
  {
   "cell_type": "markdown",
   "metadata": {},
   "source": [
    "### Example 2: Exponential Distribution\n",
    "\n",
    "Suppose $X_1,X_2,...,X_n$ is an iid sequence of random variables from the exponential distribution with unknown parameter $\\lambda$. From lessons 28 and 29, we found that the method of moments and maximum likelihood estimates are both $\\frac{1}{\\bar{X}}$. \n",
    "\n",
    "Is this estimate biased? For this exercise, assume $\\lambda=5$ and the size of each sample is 20. You will probably find it easier to do this via simulation (use `scipy` to generate a random sample from the exponential distribution with your choice of $\\lambda$. Use this sample to obtain the estimate. Repeat this process many times to get a distribution $\\hat{\\lambda}$.) "
   ]
  },
  {
   "cell_type": "code",
   "execution_count": 21,
   "metadata": {},
   "outputs": [],
   "source": [
    "lamb=[]\n",
    "\n",
    "for _ in np.arange(10000):\n",
    "    ts= stats.expon.rvs(scale=1/5, size=20)\n",
    "    lamb=np.append(lamb,1/np.mean(ts))\n"
   ]
  },
  {
   "cell_type": "code",
   "execution_count": 22,
   "metadata": {},
   "outputs": [
    {
     "data": {
      "text/plain": [
       "5.2748154268954055"
      ]
     },
     "execution_count": 22,
     "metadata": {},
     "output_type": "execute_result"
    },
    {
     "data": {
      "image/png": "[encoded data removed]",
      "text/plain": [
       "<Figure size 432x288 with 1 Axes>"
      ]
     },
     "metadata": {},
     "output_type": "display_data"
    }
   ],
   "source": [
    "plt.hist(lamb)\n",
    "np.mean(lamb)"
   ]
  },
  {
   "cell_type": "markdown",
   "metadata": {},
   "source": [
    "## Consistency\n",
    "\n",
    "An estimator is considered consistent if for any $\\epsilon >0$, \n",
    "\n",
    "$$\n",
    "\\underset{n \\to \\infty}{\\lim} P(|\\hat{\\theta}_n -\\theta|<\\epsilon)=1\n",
    "$$\n",
    "\n",
    "This is just a fancy way of saying that as $n$ increases, the estimator tends to get closer to $\\theta$. "
   ]
  },
  {
   "cell_type": "markdown",
   "metadata": {},
   "source": [
    "### Lemma\n",
    "\n",
    "An estimator is consistent if it is unbiased and if $\\underset{n \\to \\infty}{\\lim} Var(\\hat{\\theta}_n)=0$. In other words, an unbiased estimator is consistent if its variance goes to zero as sample size goes to infinity. "
   ]
  },
  {
   "cell_type": "markdown",
   "metadata": {},
   "source": [
    "### Example 3: Uniform Distribution\n",
    "\n",
    "In Example 1, we showed that the method of moments estimator for $b$ is unbiased. Is it also consistent? What is the variance of this estimator? What happens to this variance as $n$ increases? "
   ]
  },
  {
   "cell_type": "markdown",
   "metadata": {},
   "source": [
    "$\\underset{n \\to \\infty}{\\lim} Var({b}_n)=$ $ {b}^2 \\over 12 $\n",
    "\n",
    "$Var({2 \\bar X}) =$ $4 Var({\\bar X})$\n",
    "\n",
    "$=4* Var({X_1 +X_2+X_3...})$\n",
    "\n",
    "$= {4 \\over n }^2 \\sum Var (X_i)= {4 \\over n}^2 * b ^ {2 \\over 12} *n = b ^ {2 \\over 3} n$\n",
    "\n",
    "\n",
    "$\\underset{n \\to \\infty}{\\lim}$ $ b ^ {2 \\over 3} n $\n",
    "\n",
    "=0\n",
    "\n",
    "= Sample is consistent"
   ]
  },
  {
   "cell_type": "markdown",
   "metadata": {},
   "source": [
    "### Example 4: Normal Distribution\n",
    "\n",
    "Suppose $X_1,X_2,...,X_n$ is an iid sequence of random variables from the normal distribution with unknown mean and standard deviation. The method of moments (and maximum likelihood) estimator of $\\mu$ is simply $\\bar{X}$. We have already established that this estimate is unbiased. Is it consistent? "
   ]
  },
  {
   "cell_type": "markdown",
   "metadata": {},
   "source": [
    "$\\underset{_n \\to \\infty}{\\lim}$ $ Var({\\bar X})= $ $\\underset{_n \\to \\infty}{\\lim} \\sigma ^ {2 \\over n}$ = $0$\n",
    "\n",
    "= Consistent"
   ]
  },
  {
   "cell_type": "markdown",
   "metadata": {},
   "source": [
    "## Weak Law of Large Numbers\n",
    "\n",
    "It turns out that for all distributions, the sample mean is a consistent estimator for the population mean. This is known as the Weak Law of Large Numbers. "
   ]
  },
  {
   "cell_type": "code",
   "execution_count": 20,
   "metadata": {},
   "outputs": [
    {
     "data": {
      "image/png": "[encoded data removed]",
      "text/plain": [
       "<matplotlib.figure.Figure at 0x187a6b9f908>"
      ]
     },
     "metadata": {},
     "output_type": "display_data"
    }
   ],
   "source": [
    "ns=np.arange(1,10001)\n",
    "samp=stats.norm.rvs(5,6,size=10000)\n",
    "sampmeans=np.cumsum(samp)/ns\n",
    "plt.plot(ns,sampmeans)\n",
    "plt.show()"
   ]
  }
 ],
 "metadata": {
  "kernelspec": {
   "display_name": "Python 3",
   "language": "python",
   "name": "python3"
  },
  "language_info": {
   "codemirror_mode": {
    "name": "ipython",
    "version": 3
   },
   "file_extension": ".py",
   "mimetype": "text/x-python",
   "name": "python",
   "nbconvert_exporter": "python",
   "pygments_lexer": "ipython3",
   "version": "3.6.5"
  }
 },
 "nbformat": 4,
 "nbformat_minor": 2
}
