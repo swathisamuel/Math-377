{
 "cells": [
  {
   "cell_type": "markdown",
   "metadata": {},
   "source": [
    "# Lesson 5 Practical Application\n",
    "\n",
    "## Swathi Samuel\n",
    "\n",
    "### Documentation: None"
   ]
  },
  {
   "cell_type": "code",
   "execution_count": 3,
   "metadata": {},
   "outputs": [],
   "source": [
    "from datascience import *\n",
    "import numpy as np"
   ]
  },
  {
   "cell_type": "markdown",
   "metadata": {},
   "source": [
    "1. Create an Array containing 4 string elements: first name, last name, birth state, and favorite color."
   ]
  },
  {
   "cell_type": "code",
   "execution_count": 28,
   "metadata": {},
   "outputs": [
    {
     "name": "stdout",
     "output_type": "stream",
     "text": [
      "['Swathi' 'Samuel' 'New Jersey' 'Green']\n"
     ]
    }
   ],
   "source": [
    "bio= make_array(\"Swathi\", \"Samuel\", \"New Jersey\", \"Green\")\n",
    "print(bio)"
   ]
  },
  {
   "cell_type": "markdown",
   "metadata": {},
   "source": [
    "a. Use a numpy function to make all elements uppercase"
   ]
  },
  {
   "cell_type": "code",
   "execution_count": 27,
   "metadata": {},
   "outputs": [
    {
     "name": "stdout",
     "output_type": "stream",
     "text": [
      "['SWATHI' 'SAMUEL' 'NEW JERSEY' 'GREEN']\n"
     ]
    }
   ],
   "source": [
    "print(np.char.upper(bio))"
   ]
  },
  {
   "cell_type": "markdown",
   "metadata": {},
   "source": [
    "b. Count the number of times the letter \"A\" appears in each element of your array"
   ]
  },
  {
   "cell_type": "code",
   "execution_count": 26,
   "metadata": {},
   "outputs": [
    {
     "name": "stdout",
     "output_type": "stream",
     "text": [
      "[1 1 0 0]\n"
     ]
    }
   ],
   "source": [
    "print(np.char.count(bio, \"a\"))"
   ]
  },
  {
   "cell_type": "markdown",
   "metadata": {},
   "source": [
    "2. Create an array containing everyother odd number from 1 to 41"
   ]
  },
  {
   "cell_type": "code",
   "execution_count": 22,
   "metadata": {},
   "outputs": [
    {
     "name": "stdout",
     "output_type": "stream",
     "text": [
      "[ 1.  5.  9. 13. 17. 21. 25. 29. 33. 37. 41.]\n"
     ]
    }
   ],
   "source": [
    "EO_odds= np.arange(1,42,4)\n",
    "EO_odds=EO_odds.astype(float)\n",
    "print(EO_odds)"
   ]
  },
  {
   "cell_type": "markdown",
   "metadata": {},
   "source": [
    "a. Find the sum/prod of elements in array (use the astype method to convert to float)"
   ]
  },
  {
   "cell_type": "code",
   "execution_count": 25,
   "metadata": {},
   "outputs": [
    {
     "name": "stdout",
     "output_type": "stream",
     "text": [
      "231.0\n",
      "7579867420125.0\n"
     ]
    }
   ],
   "source": [
    "print(np.sum(EO_odds))\n",
    "print(np.prod(EO_odds))"
   ]
  },
  {
   "cell_type": "markdown",
   "metadata": {},
   "source": [
    "b. Find the natural log of each element"
   ]
  },
  {
   "cell_type": "code",
   "execution_count": 29,
   "metadata": {},
   "outputs": [
    {
     "name": "stdout",
     "output_type": "stream",
     "text": [
      "[0.         1.60943791 2.19722458 2.56494936 2.83321334 3.04452244\n",
      " 3.21887582 3.36729583 3.49650756 3.61091791 3.71357207]\n"
     ]
    }
   ],
   "source": [
    "print(np.log(EO_odds))"
   ]
  }
 ],
 "metadata": {
  "kernelspec": {
   "display_name": "Python 3",
   "language": "python",
   "name": "python3"
  },
  "language_info": {
   "codemirror_mode": {
    "name": "ipython",
    "version": 3
   },
   "file_extension": ".py",
   "mimetype": "text/x-python",
   "name": "python",
   "nbconvert_exporter": "python",
   "pygments_lexer": "ipython3",
   "version": "3.6.5"
  }
 },
 "nbformat": 4,
 "nbformat_minor": 2
}
